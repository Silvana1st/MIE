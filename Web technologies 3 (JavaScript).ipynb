{
 "cells": [
  {
   "cell_type": "markdown",
   "metadata": {},
   "source": [
    "<img src=\"./resources/MIE.png\" width=\"100%\" align=\"left\" />"
   ]
  },
  {
   "cell_type": "markdown",
   "metadata": {},
   "source": [
    "<table style=\"float:right;\">\n",
    "    <tr>\n",
    "        <td>                      \n",
    "            <div style=\"text-align: right\"><a href=\"https://alandavies.netlify.com\" target=\"_blank\">Dr Alan Davies</a></div>\n",
    "            <div style=\"text-align: right\">Senior Lecturer health data science</div>\n",
    "            <div style=\"text-align: right\">University of Manchester</div>\n",
    "         </td>\n",
    "         <td>\n",
    "             <img src=\"./resources/alan.png\" width=\"30%\" />\n",
    "         </td>\n",
    "     </tr>\n",
    "</table>"
   ]
  },
  {
   "cell_type": "markdown",
   "metadata": {},
   "source": [
    "# 3.0 Introduction to programming with JavaScript\n",
    "****"
   ]
  },
  {
   "cell_type": "markdown",
   "metadata": {},
   "source": [
    "#### About this Notebook\n",
    "This notebook introduces the concept of programming with <code>JavaScript</code>. This allows us to add interactivity and validation to web content."
   ]
  },
  {
   "cell_type": "markdown",
   "metadata": {},
   "source": [
    "<div class=\"alert alert-block alert-warning\"><b>Learning Objectives:</b> \n",
    "<br/> At the end of this notebook you will be able to:\n",
    "    \n",
    "- Investigate key features of the JavaScript programming language\n",
    "\n",
    "- Practice using JavaScript to interact with HTML elements\n",
    "    \n",
    "- Investigate the best practices around combining JavaScript with HTML code\n",
    "\n",
    "</div> "
   ]
  },
  {
   "cell_type": "markdown",
   "metadata": {},
   "source": [
    "<a id=\"top\"></a>\n",
    "\n",
    "<b>Table of contents</b><br>\n",
    "\n",
    "3.1 [Using comments](#comments)\n",
    "\n",
    "3.2 [Using variables in JavaScript](#vars)\n",
    "\n",
    "3.3 [Data types](#dtypes)\n",
    "\n",
    "3.4 [Changing types (typecasting)](#casting)\n",
    "\n",
    "3.5 [Data structures](#struct)\n",
    "\n",
    "3.6 [Loops](#loops)\n",
    "\n",
    "3.7 [Object Orientated Programming (OOP)](#oop)\n",
    "\n",
    "3.8 [Best practices](#best)\n",
    "\n",
    "3.9 [Taking things further](#further)"
   ]
  },
  {
   "cell_type": "markdown",
   "metadata": {},
   "source": [
    "It is assumed that you have read the introduction to Python notebooks (or are familiar with Python) before you attempt this notebook. This notebook is just an introduction to JavaScript and does not go into the same level of detail as the Python notebooks do. This does however cover some of the core functionality of JavaScript that you will find (apart from different looking syntax) works quite similarly to Python in many cases."
   ]
  },
  {
   "cell_type": "markdown",
   "metadata": {},
   "source": [
    "The JavaScript language was created in 1995. The name was inspired by the popular Object Orientated Programming language Java that was developed in 1990 even though the two languages have nothing in common apart from the name. Now JavaScript is the primary web based programming language for client side scripting. JavaScript is often used for client side (before sending data to a server) activities. This can include tasks like validating input fields prior to sending data to a back-end server. Some systems are made entirely with JavaScript as the primary language. JavaScript is a fully featured programming language that now supports several paradigms including OOP and event driven programming."
   ]
  },
  {
   "cell_type": "markdown",
   "metadata": {},
   "source": [
    "<div class=\"alert alert-success\">\n",
    "<b>Note:</b> If you are interested in learning more about the history of JavaScript, check out this <a href=\"https://medium.com/@_benaston/lesson-1a-the-history-of-javascript-8c1ce3bffb17\" target=\"_blank\">Medium blog post</a>.\n",
    "</div>"
   ]
  },
  {
   "cell_type": "markdown",
   "metadata": {},
   "source": [
    "The syntax of JavaScript is more symbolic than that of a language like Python and looks more like C or Java. JavaScript interacts with HTML elements using a reference like an elements class name or id. For example lets say we have some HTML code as follows to ask a person to enter their name:"
   ]
  },
  {
   "cell_type": "code",
   "execution_count": 1,
   "metadata": {},
   "outputs": [
    {
     "data": {
      "text/html": [
       "<html>\n",
       "    <head>\n",
       "        <title>My page</title>\n",
       "    </head>\n",
       "    <body>\n",
       "        <div>\n",
       "            <h1>Enter name</h1>\n",
       "            <span>Please enter your name here:</span>\n",
       "            <input id=\"name-input\" type=\"text\">\n",
       "        </div>\n",
       "    </body>\n",
       "</html>\n"
      ],
      "text/plain": [
       "<IPython.core.display.HTML object>"
      ]
     },
     "metadata": {},
     "output_type": "display_data"
    }
   ],
   "source": [
    "%%html\n",
    "<html>\n",
    "    <head>\n",
    "        <title>My page</title>\n",
    "    </head>\n",
    "    <body>\n",
    "        <div>\n",
    "            <h1>Enter name</h1>\n",
    "            <span>Please enter your name here:</span>\n",
    "            <input id=\"name-input\" type=\"text\">\n",
    "        </div>\n",
    "    </body>\n",
    "</html>"
   ]
  },
  {
   "cell_type": "code",
   "execution_count": 1,
   "metadata": {},
   "outputs": [
    {
     "data": {
      "application/javascript": [
       "var nameInput = document.getElementById(\"name-input\");\n",
       "alert(\"Hello \" + nameInput.value);\n"
      ],
      "text/plain": [
       "<IPython.core.display.Javascript object>"
      ]
     },
     "metadata": {},
     "output_type": "display_data"
    }
   ],
   "source": [
    "%%javascript\n",
    "var nameInput = document.getElementById(\"name-input\");\n",
    "alert(\"Hello \" + nameInput.value);"
   ]
  },
  {
   "cell_type": "markdown",
   "metadata": {},
   "source": [
    "We use the <code>var</code> keyword to declare a variable called <code>nameInput</code>. Note that in JavaScript we tend to use camel case (each subsequent first letter of each word is capitalised apart from the first word). Then we use the JavaScript (JS) function <code>getElementById</code> to get the HTML element with the id <code>name-input</code>, this is our text entry box. This is how JS knows how to interact with HTML elements. The next line uses the <code>alert</code> function to display a pop-up with the name entered into the input box. As the variable <code>nameInput</code> is a HTML element with all the different properties and attributes of that element. We need to specify which property we are interested in, in this case it is the <code>value</code> that contains the text in the box. each line of code is ended with a semi-colon in JS."
   ]
  },
  {
   "cell_type": "markdown",
   "metadata": {},
   "source": [
    "As with HTML and CSS, JS does not have rules about indentation like Python does. It is typical to indent code blocks contained inside braces { } though to aid in readability and maintainability. "
   ]
  },
  {
   "cell_type": "markdown",
   "metadata": {},
   "source": [
    "<div class=\"alert alert-success\">\n",
    "    <b>Note:</b> Like the <code>%%html</code> the <code>%%javascript</code> is just for benefit of displaying JS code in the notebook environment and is not part of standard JavaScript code.\n",
    "</div>"
   ]
  },
  {
   "cell_type": "markdown",
   "metadata": {},
   "source": [
    "<a id=\"comments\"></a>\n",
    "#### 3.1 Using comments"
   ]
  },
  {
   "cell_type": "markdown",
   "metadata": {},
   "source": [
    "Like Python, JavaScript has single line and multi-line comments."
   ]
  },
  {
   "cell_type": "code",
   "execution_count": 62,
   "metadata": {},
   "outputs": [
    {
     "data": {
      "application/javascript": [
       "var x = 10; // this is a single line comment\n",
       "var y = 25; // so is this\n"
      ],
      "text/plain": [
       "<IPython.core.display.Javascript object>"
      ]
     },
     "metadata": {},
     "output_type": "display_data"
    }
   ],
   "source": [
    "%%javascript\n",
    "var x = 10; // this is a single line comment\n",
    "var y = 25; // so is this"
   ]
  },
  {
   "cell_type": "code",
   "execution_count": 63,
   "metadata": {},
   "outputs": [
    {
     "data": {
      "application/javascript": [
       "/* \n",
       "   This is a multi\n",
       "   line comment in JS   \n",
       "*/\n",
       "var x = 10; \n",
       "var y = 25;\n"
      ],
      "text/plain": [
       "<IPython.core.display.Javascript object>"
      ]
     },
     "metadata": {},
     "output_type": "display_data"
    }
   ],
   "source": [
    "%%javascript\n",
    "/* \n",
    "   This is a multi\n",
    "   line comment in JS   \n",
    "*/\n",
    "var x = 10; \n",
    "var y = 25;"
   ]
  },
  {
   "cell_type": "markdown",
   "metadata": {},
   "source": [
    "<a id=\"vars\"></a>\n",
    "#### 3.2 Variables in JavaScript"
   ]
  },
  {
   "cell_type": "markdown",
   "metadata": {},
   "source": [
    "JS works in a similar way to Python in that a variables type is defined by what kind of data it contains. In addition to the\n",
    "<code>var</code> keyword JS now also supports <code>let</code> and <code>const</code>. Let is used to allow access to a variable in the current block of code only (code inside braces { }). The const keyword is used to declare a constant variable, for example PI. These variables must be declared and assigned in a single statement e.g. <code>const PI = 3.14159265358;</code>."
   ]
  },
  {
   "cell_type": "markdown",
   "metadata": {},
   "source": [
    "<a id=\"dtypes\"></a>\n",
    "#### 3.3 Data types"
   ]
  },
  {
   "cell_type": "markdown",
   "metadata": {},
   "source": [
    "As previously mentioned data types in JS are dynamic and know what type they are based on the value(s) assigned to them. The following represent an integer, float and string."
   ]
  },
  {
   "cell_type": "code",
   "execution_count": 64,
   "metadata": {},
   "outputs": [
    {
     "data": {
      "application/javascript": [
       "var num = 14;\n",
       "var degrees = 37.56;\n",
       "var name = \"Harry Styles\";\n"
      ],
      "text/plain": [
       "<IPython.core.display.Javascript object>"
      ]
     },
     "metadata": {},
     "output_type": "display_data"
    }
   ],
   "source": [
    "%%javascript\n",
    "var num = 14;\n",
    "var degrees = 37.56;\n",
    "var name = \"Harry Styles\";"
   ]
  },
  {
   "cell_type": "markdown",
   "metadata": {},
   "source": [
    "A variable can also be declared and then have a value assigned to it later (with the exception of const)."
   ]
  },
  {
   "cell_type": "code",
   "execution_count": 65,
   "metadata": {},
   "outputs": [
    {
     "data": {
      "application/javascript": [
       "var someNumber;\n",
       "someNumber = 78;\n"
      ],
      "text/plain": [
       "<IPython.core.display.Javascript object>"
      ]
     },
     "metadata": {},
     "output_type": "display_data"
    }
   ],
   "source": [
    "%%javascript\n",
    "var someNumber;\n",
    "someNumber = 78;"
   ]
  },
  {
   "cell_type": "markdown",
   "metadata": {},
   "source": [
    "<a id=\"casting\"></a>\n",
    "#### 3.4 Changing types (typecasting)"
   ]
  },
  {
   "cell_type": "markdown",
   "metadata": {},
   "source": [
    "We can also switch between data types with functions like <code>parseInt</code>, <code>parseFloat</code>, <code>toString</code>. We can also see what type a variable is by using <code>typeof</code>. Lets say we want to write a simple program to add 2 numbers together. The numbers we get back from the input boxes will be in the form of strings (text) and will need to be converted into integers to add them."
   ]
  },
  {
   "cell_type": "markdown",
   "metadata": {},
   "source": [
    "In this example we will introduce several new concepts, including functions, where to put JS code in a HTML document and event driven programming. JS looks more complex than a language like Python because it is more symbolic in its syntax, it links to HTML and CSS and the flow of execution tends to be triggered by certain events rather than flowing from top to bottom like a typical Python script."
   ]
  },
  {
   "cell_type": "code",
   "execution_count": 13,
   "metadata": {},
   "outputs": [
    {
     "data": {
      "text/html": [
       "<html>\n",
       "    <head>\n",
       "        <title>My page</title>\n",
       "    </head>\n",
       "    <script>\n",
       "        function addNumbers()\n",
       "        {\n",
       "            var numberOne = document.getElementById(\"number-one\");\n",
       "            var numberTwo = document.getElementById(\"number-two\");\n",
       "            var answer = document.getElementById(\"answer\");\n",
       "            \n",
       "            answer.innerHTML = parseInt(numberOne.value) + parseInt(numberTwo.value);\n",
       "        }\n",
       "    </script>\n",
       "    <body>\n",
       "        <h1>Adder</h1>\n",
       "        <div>            \n",
       "            <span>Please enter number one here:</span>\n",
       "            <input id=\"number-one\" type=\"number\">\n",
       "        </div>\n",
       "        <br>\n",
       "        <div>            \n",
       "            <span>Please enter number two here:</span>\n",
       "            <input id=\"number-two\" type=\"number\">\n",
       "        </div>\n",
       "        <br>\n",
       "        <button onclick=\"addNumbers();\">Add</button>\n",
       "        <br><br>\n",
       "        <span>The answer is: </span><span id=\"answer\"></span>\n",
       "    </body>\n",
       "</html>\n"
      ],
      "text/plain": [
       "<IPython.core.display.HTML object>"
      ]
     },
     "metadata": {},
     "output_type": "display_data"
    }
   ],
   "source": [
    "%%html\n",
    "<html>\n",
    "    <head>\n",
    "        <title>My calculator</title>\n",
    "    </head>\n",
    "    <script>\n",
    "        function addNumbers()\n",
    "        {\n",
    "            var numberOne = document.getElementById(\"number-one\");\n",
    "            var numberTwo = document.getElementById(\"number-two\");\n",
    "            var answer = document.getElementById(\"answer\");\n",
    "            \n",
    "            answer.innerHTML = parseInt(numberOne.value) + parseInt(numberTwo.value);\n",
    "        }\n",
    "    </script>\n",
    "    <body>\n",
    "        <h1>Adder</h1>\n",
    "        <div>            \n",
    "            <span>Please enter number one here:</span>\n",
    "            <input id=\"number-one\" type=\"number\">\n",
    "        </div>\n",
    "        <br>\n",
    "        <div>            \n",
    "            <span>Please enter number two here:</span>\n",
    "            <input id=\"number-two\" type=\"number\">\n",
    "        </div>\n",
    "        <br>\n",
    "        <button onclick=\"addNumbers();\">Add</button>\n",
    "        <br><br>\n",
    "        <span>The answer is: </span><span id=\"answer\"></span>\n",
    "    </body>\n",
    "</html>"
   ]
  },
  {
   "cell_type": "markdown",
   "metadata": {},
   "source": [
    "This has introduced many new concepts. First we can see that we can add JS script to a HTML file. This <code>script</code> tag can be added to either the head or the body section of a HTML file. You will also note that the function (addNumbers) doesn't do anything until we press the <code>Add</code> button. This is the essence of event driven programming. You will notice in the HTML code for the button: <code>onclick=\"addNumbers();\"</code>. Here the event is <code>on click</code>. So when the button is clicked it will run the JS function. There are many events like mouse click, mouse over, keypress etc."
   ]
  },
  {
   "cell_type": "markdown",
   "metadata": {},
   "source": [
    "Note that for all the elements we want to interact with we have added an id. We can create a function in JS using the <code>function</code> keyword, a function name and then open closed parentheses. This works in the same way as Python allowing us to pass in parameters to the function. Leaving them blank indicates there are no parameters. The code for the function is contained withing the opening and closing braces { }."
   ]
  },
  {
   "cell_type": "markdown",
   "metadata": {},
   "source": [
    "We create variables for both number input boxes and the answer span element (where we will show the result). We can update the <code>innerHTML</code> of the span element (place a value between the opening and closing tags programatically). This will be the value of both the text boxes added together. Finally we use the <code>parseInt</code> function to make sure we add the numbers together as integers and not strings."
   ]
  },
  {
   "cell_type": "markdown",
   "metadata": {
    "solution2": "hidden",
    "solution2_first": true
   },
   "source": [
    "<div class=\"alert alert-block alert-info\">\n",
    "<b>Task 1:</b>\n",
    "<br> Using the code above, add a function to minus the two numbers from one another. To do this you can add another button called subtract and a new function to minus the numbers. A more advanced solution would be to pass in a value to the function to determine if it should add or subtract the numbers. Note: you must change the ids or you will referencing the elements in the code above.\n",
    "</div>"
   ]
  },
  {
   "cell_type": "code",
   "execution_count": 17,
   "metadata": {
    "solution2": "hidden"
   },
   "outputs": [
    {
     "data": {
      "text/html": [
       "<html>\n",
       "    <head>\n",
       "        <title>My calculator</title>\n",
       "    </head>\n",
       "    <script>\n",
       "        function calculateNumbers(operation)\n",
       "        {\n",
       "            var numberOne = document.getElementById(\"num-one\");\n",
       "            var numberTwo = document.getElementById(\"num-two\");\n",
       "            var answer = document.getElementById(\"ans\");\n",
       "         \n",
       "            if(operation == \"add\") {\n",
       "                answer.innerHTML = parseInt(numberOne.value) + parseInt(numberTwo.value);\n",
       "            }\n",
       "            if(operation == \"subtract\") {\n",
       "                answer.innerHTML = parseInt(numberOne.value) - parseInt(numberTwo.value);\n",
       "            }\n",
       "        }\n",
       "    </script>\n",
       "    <body>\n",
       "        <h1>Calculator</h1>\n",
       "        <div>            \n",
       "            <span>Please enter number one here:</span>\n",
       "            <input id=\"num-one\" type=\"number\">\n",
       "        </div>\n",
       "        <br>\n",
       "        <div>            \n",
       "            <span>Please enter number two here:</span>\n",
       "            <input id=\"num-two\" type=\"number\">\n",
       "        </div>\n",
       "        <br>\n",
       "        <button onclick=\"calculateNumbers('add');\">Add</button>\n",
       "        <button onclick=\"calculateNumbers('subtract');\">Subtract</button>\n",
       "        <br><br>\n",
       "        <span>The answer is: </span><span id=\"ans\"></span>\n",
       "    </body>\n",
       "</html>\n"
      ],
      "text/plain": [
       "<IPython.core.display.HTML object>"
      ]
     },
     "metadata": {},
     "output_type": "display_data"
    }
   ],
   "source": [
    "%%html\n",
    "<html>\n",
    "    <head>\n",
    "        <title>My calculator</title>\n",
    "    </head>\n",
    "    <script>\n",
    "        function calculateNumbers(operation)\n",
    "        {\n",
    "            var numberOne = document.getElementById(\"num-one\");\n",
    "            var numberTwo = document.getElementById(\"num-two\");\n",
    "            var answer = document.getElementById(\"ans\");\n",
    "         \n",
    "            if(operation == \"add\") {\n",
    "                answer.innerHTML = parseInt(numberOne.value) + parseInt(numberTwo.value);\n",
    "            }\n",
    "            if(operation == \"subtract\") {\n",
    "                answer.innerHTML = parseInt(numberOne.value) - parseInt(numberTwo.value);\n",
    "            }\n",
    "        }\n",
    "    </script>\n",
    "    <body>\n",
    "        <h1>Calculator</h1>\n",
    "        <div>            \n",
    "            <span>Please enter number one here:</span>\n",
    "            <input id=\"num-one\" type=\"number\">\n",
    "        </div>\n",
    "        <br>\n",
    "        <div>            \n",
    "            <span>Please enter number two here:</span>\n",
    "            <input id=\"num-two\" type=\"number\">\n",
    "        </div>\n",
    "        <br>\n",
    "        <button onclick=\"calculateNumbers('add');\">Add</button>\n",
    "        <button onclick=\"calculateNumbers('subtract');\">Subtract</button>\n",
    "        <br><br>\n",
    "        <span>The answer is: </span><span id=\"ans\"></span>\n",
    "    </body>\n",
    "</html>"
   ]
  },
  {
   "cell_type": "code",
   "execution_count": null,
   "metadata": {},
   "outputs": [],
   "source": [
    "%%html\n"
   ]
  },
  {
   "cell_type": "markdown",
   "metadata": {},
   "source": [
    "<a id=\"struct\"></a>\n",
    "#### 3.5 Data structures"
   ]
  },
  {
   "cell_type": "markdown",
   "metadata": {},
   "source": [
    "Lists in JS are called <code>arrays</code>. These work in a similar way to lists in Python. For example."
   ]
  },
  {
   "cell_type": "code",
   "execution_count": 66,
   "metadata": {},
   "outputs": [
    {
     "data": {
      "application/javascript": [
       "var myArray = [\"Apples\", \"Pears\", \"Bananas\"];\n"
      ],
      "text/plain": [
       "<IPython.core.display.Javascript object>"
      ]
     },
     "metadata": {},
     "output_type": "display_data"
    }
   ],
   "source": [
    "%%javascript\n",
    "var myArray = [\"Apples\", \"Pears\", \"Bananas\"];"
   ]
  },
  {
   "cell_type": "markdown",
   "metadata": {},
   "source": [
    "We can access individual elements in the same way as we do in Python (again starting at 0) we can select the elements index with a number, so Bananas is number 2."
   ]
  },
  {
   "cell_type": "code",
   "execution_count": 67,
   "metadata": {},
   "outputs": [
    {
     "data": {
      "application/javascript": [
       "var myArray = [\"Apples\", \"Pears\", \"Bananas\"];\n",
       "myArray[2]; // Bananas\n"
      ],
      "text/plain": [
       "<IPython.core.display.Javascript object>"
      ]
     },
     "metadata": {},
     "output_type": "display_data"
    }
   ],
   "source": [
    "%%javascript\n",
    "var myArray = [\"Apples\", \"Pears\", \"Bananas\"];\n",
    "myArray[2]; // Bananas"
   ]
  },
  {
   "cell_type": "markdown",
   "metadata": {},
   "source": [
    "JS also has objects that work like dictionaries in Python."
   ]
  },
  {
   "cell_type": "code",
   "execution_count": 68,
   "metadata": {},
   "outputs": [
    {
     "data": {
      "application/javascript": [
       "var phone = {\n",
       "    type: \"Huawei p30 pro\",\n",
       "    color: \"black\",\n",
       "    carrier: \"O2\",\n",
       "    credit: 23.03\n",
       "};\n"
      ],
      "text/plain": [
       "<IPython.core.display.Javascript object>"
      ]
     },
     "metadata": {},
     "output_type": "display_data"
    }
   ],
   "source": [
    "%%javascript\n",
    "var phone = {\n",
    "    type: \"Huawei p30 pro\",\n",
    "    color: \"black\",\n",
    "    carrier: \"O2\",\n",
    "    credit: 23.03\n",
    "};"
   ]
  },
  {
   "cell_type": "markdown",
   "metadata": {},
   "source": [
    "This could also be written on the same line"
   ]
  },
  {
   "cell_type": "code",
   "execution_count": 69,
   "metadata": {},
   "outputs": [
    {
     "data": {
      "application/javascript": [
       "var phone = { type: \"Huawei p30 pro\", color: \"black\", carrier: \"O2\", credit: 23.03 };\n"
      ],
      "text/plain": [
       "<IPython.core.display.Javascript object>"
      ]
     },
     "metadata": {},
     "output_type": "display_data"
    }
   ],
   "source": [
    "%%javascript\n",
    "var phone = { type: \"Huawei p30 pro\", color: \"black\", carrier: \"O2\", credit: 23.03 };"
   ]
  },
  {
   "cell_type": "markdown",
   "metadata": {},
   "source": [
    "Or using by declaring an object type and adding values."
   ]
  },
  {
   "cell_type": "code",
   "execution_count": 70,
   "metadata": {},
   "outputs": [
    {
     "data": {
      "application/javascript": [
       "var phone = new Object();\n",
       "phone.type = \"Huawei p30 pro\";\n",
       "phone.color = \"black\";\n",
       "phone.carrier = \"O2\";\n",
       "phone.credit = 23.03;\n"
      ],
      "text/plain": [
       "<IPython.core.display.Javascript object>"
      ]
     },
     "metadata": {},
     "output_type": "display_data"
    }
   ],
   "source": [
    "%%javascript\n",
    "var phone = new Object();\n",
    "phone.type = \"Huawei p30 pro\";\n",
    "phone.color = \"black\";\n",
    "phone.carrier = \"O2\";\n",
    "phone.credit = 23.03;"
   ]
  },
  {
   "cell_type": "markdown",
   "metadata": {},
   "source": [
    "In all cases we can access the values by typing the objects name, a dot and the value we want e.g. <code>phone.credit</code>. As with Python this works by using key : value pairs. In Python keys have to be placed in quotes, this is not the case in JS."
   ]
  },
  {
   "cell_type": "markdown",
   "metadata": {},
   "source": [
    "<a id=\"loops\"></a>\n",
    "#### 3.6 Loops"
   ]
  },
  {
   "cell_type": "markdown",
   "metadata": {},
   "source": [
    "As with Python there are several different types of loops available to us. The good news is that you should be familiar with these from Python even if the syntax looks slightly different. Let's start with a <code>for</code> loop. We will ask for some user input and then output this 5 times in a loop."
   ]
  },
  {
   "cell_type": "code",
   "execution_count": 2,
   "metadata": {},
   "outputs": [
    {
     "data": {
      "text/html": [
       "<html>\n",
       "    <head>\n",
       "        <title>My loop</title>\n",
       "    </head>\n",
       "    <script>\n",
       "        function loopValue()\n",
       "        {\n",
       "            var wordToLoop = document.getElementById(\"loop-val\");\n",
       "            var loopOutput = document.getElementById(\"loop-output\");\n",
       "        \n",
       "            for(let i=0; i<5; i++) {\n",
       "                loopOutput.innerHTML += (\" \" + wordToLoop.value + \" \");\n",
       "            }\n",
       "        }\n",
       "    </script>\n",
       "    <body>\n",
       "        <h1>Looper</h1>\n",
       "        <div>            \n",
       "            <span>Please enter a name or word here:</span>\n",
       "            <input id=\"loop-val\" type=\"text\">\n",
       "        </div>\n",
       "        <br>\n",
       "        <button onclick=\"loopValue();\">Loop</button>\n",
       "        <span id=\"loop-output\"></span>\n",
       "    </body>\n",
       "</html>\n"
      ],
      "text/plain": [
       "<IPython.core.display.HTML object>"
      ]
     },
     "metadata": {},
     "output_type": "display_data"
    }
   ],
   "source": [
    "%%html\n",
    "<html>\n",
    "    <head>\n",
    "        <title>My loop</title>\n",
    "    </head>\n",
    "    <script>\n",
    "        function loopValue()\n",
    "        {\n",
    "            var wordToLoop = document.getElementById(\"loop-val\");\n",
    "            var loopOutput = document.getElementById(\"loop-output\");\n",
    "        \n",
    "            for(let i=0; i<5; i++) {\n",
    "                loopOutput.innerHTML += (\" \" + wordToLoop.value + \" \");\n",
    "            }\n",
    "        }\n",
    "    </script>\n",
    "    <body>\n",
    "        <h1>Looper</h1>\n",
    "        <div>            \n",
    "            <span>Please enter a name or word here:</span>\n",
    "            <input id=\"loop-val\" type=\"text\">\n",
    "        </div>\n",
    "        <br>\n",
    "        <button onclick=\"loopValue();\">Loop</button>\n",
    "        <span id=\"loop-output\"></span>\n",
    "    </body>\n",
    "</html>"
   ]
  },
  {
   "cell_type": "markdown",
   "metadata": {},
   "source": [
    "The main thing to note here is the loop itself which has 3 statements separated by a semi-colon. The first part <code>let i=0;</code> creates our loop counter and sets it to 0. The use of letters like i, j and k or x and y is traditional in programming but this could be any variable name e.g. <code>loopCounter</code>. The second statement is how many times the loop runs <code>i&lt;5;</code>. In this case while the value of i is less than 5. So 0 - 4 is 5 times. The final statement <code>i++</code> increments (add to) i by 1 each time the loop runs. You can change these values to loop in steps or to count down instead of up and so on. The code inside the braces after the for loop statement is what is repeated."
   ]
  },
  {
   "cell_type": "markdown",
   "metadata": {
    "solution2": "hidden",
    "solution2_first": true
   },
   "source": [
    "<div class=\"alert alert-block alert-info\">\n",
    "<b>Task 2:</b>\n",
    "<br> Given the numbers in the array in the code below. Write a function using a loop to find and output the average of the array of numbers (sum all numbers and divide by length of array). Hint: You can find out the length on an array using <code>arrayName.length;</code> where arrayName is the name of your array.\n",
    "</div>"
   ]
  },
  {
   "cell_type": "code",
   "execution_count": 71,
   "metadata": {
    "solution2": "hidden"
   },
   "outputs": [
    {
     "data": {
      "text/html": [
       "<html>\n",
       "    <head>\n",
       "        <title>Average</title>\n",
       "    </head>\n",
       "    <script>\n",
       "        function calculateAverage()\n",
       "        {\n",
       "            var answer = 0;\n",
       "            var numsList = [15, 3, 45, 2, 3, 67, 32, 5];\n",
       "            var avgOutput = document.getElementById(\"avg-output\");\n",
       "        \n",
       "            for(var i=0; i<numsList.length; i++) {\n",
       "                answer += numsList[i];\n",
       "            }\n",
       "            avgOutput.innerHTML = answer / numsList.length;\n",
       "        }\n",
       "    </script>\n",
       "    <body>\n",
       "        <h1>Looper</h1>\n",
       "        <div>            \n",
       "            <span>Average:</span>\n",
       "            <br>\n",
       "            <button onclick=\"calculateAverage();\">Calculate average</button>\n",
       "            <br>\n",
       "            <span id=\"avg-output\"></span>\n",
       "        </div>\n",
       "    </body>\n",
       "</html>\n"
      ],
      "text/plain": [
       "<IPython.core.display.HTML object>"
      ]
     },
     "metadata": {},
     "output_type": "display_data"
    }
   ],
   "source": [
    "%%html\n",
    "<html>\n",
    "    <head>\n",
    "        <title>Average</title>\n",
    "    </head>\n",
    "    <script>\n",
    "        function calculateAverage()\n",
    "        {\n",
    "            var answer = 0;\n",
    "            var numsList = [15, 3, 45, 2, 3, 67, 32, 5];\n",
    "            var avgOutput = document.getElementById(\"avg-output\");\n",
    "        \n",
    "            for(var i=0; i<numsList.length; i++) {\n",
    "                answer += numsList[i];\n",
    "            }\n",
    "            avgOutput.innerHTML = answer / numsList.length;\n",
    "        }\n",
    "    </script>\n",
    "    <body>\n",
    "        <h1>Looper</h1>\n",
    "        <div>            \n",
    "            <span>Average:</span>\n",
    "            <br>\n",
    "            <button onclick=\"calculateAverage();\">Calculate average</button>\n",
    "            <br>\n",
    "            <span id=\"avg-output\"></span>\n",
    "        </div>\n",
    "    </body>\n",
    "</html>"
   ]
  },
  {
   "cell_type": "code",
   "execution_count": 39,
   "metadata": {},
   "outputs": [
    {
     "data": {
      "text/html": [
       "<html>\n",
       "    <head>\n",
       "        <title>Average</title>\n",
       "    </head>\n",
       "    <script>\n",
       "        function calculateAverage()\n",
       "        {\n",
       "            var answer = 0;\n",
       "            var numsList = [15, 3, 45, 2, 3, 67, 32, 5];\n",
       "            var avgOutput = document.getElementById(\"avg-output\");\n",
       "        \n",
       "            //TODO: Compute the average of numsList using a fore loop and output the result in the avg-output span element\n",
       "        }\n",
       "    </script>\n",
       "    <body>\n",
       "        <h1>Looper</h1>\n",
       "        <div>            \n",
       "            <span>Average:</span>\n",
       "            <br>\n",
       "            <button onclick=\"calculateAverage();\">Calculate average</button>\n",
       "            <br>\n",
       "            <span id=\"avg-output\"></span>\n",
       "        </div>\n",
       "    </body>\n",
       "</html>\n"
      ],
      "text/plain": [
       "<IPython.core.display.HTML object>"
      ]
     },
     "metadata": {},
     "output_type": "display_data"
    }
   ],
   "source": [
    "%%html\n",
    "<html>\n",
    "    <head>\n",
    "        <title>Average</title>\n",
    "    </head>\n",
    "    <script>\n",
    "        function calculateAverage()\n",
    "        {\n",
    "            var answer = 0;\n",
    "            var numsList = [15, 3, 45, 2, 3, 67, 32, 5];\n",
    "            var avgOutput = document.getElementById(\"avg-output\");\n",
    "        \n",
    "            //TODO: Compute the average of numsList using a fore loop and output the result in the avg-output span element\n",
    "        }\n",
    "    </script>\n",
    "    <body>\n",
    "        <h1>Looper</h1>\n",
    "        <div>            \n",
    "            <span>Average:</span>\n",
    "            <br>\n",
    "            <button onclick=\"calculateAverage();\">Calculate average</button>\n",
    "            <br>\n",
    "            <span id=\"avg-output\"></span>\n",
    "        </div>\n",
    "    </body>\n",
    "</html>"
   ]
  },
  {
   "cell_type": "markdown",
   "metadata": {},
   "source": [
    "JS also supports both <code>while</code> and <code>do ... while</code> loops. These work in the same way as while loops in Python. The syntax looks like this:"
   ]
  },
  {
   "cell_type": "code",
   "execution_count": 42,
   "metadata": {},
   "outputs": [
    {
     "data": {
      "application/javascript": [
       "var i = 0;\n",
       "while(i < 5) {\n",
       "    //Do something\n",
       "    i++;\n",
       "}\n",
       "\n",
       "i = 0;\n",
       "do {\n",
       "    //Something\n",
       "    i++;\n",
       "} while(i < 5);\n"
      ],
      "text/plain": [
       "<IPython.core.display.Javascript object>"
      ]
     },
     "metadata": {},
     "output_type": "display_data"
    }
   ],
   "source": [
    "%%javascript\n",
    "var i = 0;\n",
    "while(i < 5) {\n",
    "    //Do something\n",
    "    i++;\n",
    "}\n",
    "\n",
    "i = 0;\n",
    "do {\n",
    "    //Something\n",
    "    i++;\n",
    "} while(i < 5);"
   ]
  },
  {
   "cell_type": "markdown",
   "metadata": {},
   "source": [
    "<div class=\"alert alert-danger\">\n",
    "    <b>Note:</b> Remember it can be easy to enter an infinite loop if the termination condition is not met so use caution with while, do ... while loops.\n",
    "</div>"
   ]
  },
  {
   "cell_type": "markdown",
   "metadata": {},
   "source": [
    "<a id=\"oop\"></a>\n",
    "#### 3.7 Object Orientated Programming (OOP)"
   ]
  },
  {
   "cell_type": "markdown",
   "metadata": {},
   "source": [
    "Quire recently JavaScript has also been extended to work with classes and support proper OOP. The concepts are the same as those covered in Python around OOP so we wont go over them again. Instead we will show you the syntax and an example of using classes in JS."
   ]
  },
  {
   "cell_type": "markdown",
   "metadata": {},
   "source": [
    "To create a class we need to use the <code>class</code> keyword. Each class also has to have a method called <code>constructor</code> that works in the same way as Python's <code>__init__</code> method."
   ]
  },
  {
   "cell_type": "code",
   "execution_count": 44,
   "metadata": {},
   "outputs": [
    {
     "data": {
      "application/javascript": [
       "class Phone {\n",
       "    constructor(phoneType, carrier, credit) {\n",
       "        this.phoneType = phoneType;\n",
       "        this.carrier = carrier;\n",
       "        this.credit = credit;\n",
       "    }\n",
       "}\n"
      ],
      "text/plain": [
       "<IPython.core.display.Javascript object>"
      ]
     },
     "metadata": {},
     "output_type": "display_data"
    }
   ],
   "source": [
    "%%javascript\n",
    "class Phone {\n",
    "    constructor(phoneType, carrier, credit) {\n",
    "        this.phoneType = phoneType;\n",
    "        this.carrier = carrier;\n",
    "        this.credit = credit;\n",
    "    }\n",
    "}"
   ]
  },
  {
   "cell_type": "markdown",
   "metadata": {},
   "source": [
    "We can then add any number of optional methods to the class, for example a method to return the amount of credit."
   ]
  },
  {
   "cell_type": "code",
   "execution_count": 45,
   "metadata": {},
   "outputs": [
    {
     "data": {
      "application/javascript": [
       "class Phone {\n",
       "    constructor(phoneType, carrier, credit) {\n",
       "        this.phoneType = phoneType;\n",
       "        this.carrier = carrier;\n",
       "        this.credit = credit;\n",
       "    }\n",
       "    showCredit() {\n",
       "        return this.credit;\n",
       "    }\n",
       "    showCarrier() {\n",
       "        return this.carrier;\n",
       "    }\n",
       "    // etc.\n",
       "}\n"
      ],
      "text/plain": [
       "<IPython.core.display.Javascript object>"
      ]
     },
     "metadata": {},
     "output_type": "display_data"
    }
   ],
   "source": [
    "%%javascript\n",
    "class Phone {\n",
    "    constructor(phoneType, carrier, credit) {\n",
    "        this.phoneType = phoneType;\n",
    "        this.carrier = carrier;\n",
    "        this.credit = credit;\n",
    "    }\n",
    "    showCredit() {\n",
    "        return this.credit;\n",
    "    }\n",
    "    showCarrier() {\n",
    "        return this.carrier;\n",
    "    }\n",
    "    // etc.\n",
    "}"
   ]
  },
  {
   "cell_type": "markdown",
   "metadata": {},
   "source": [
    "We can then create an instance of the class using the <code>new</code> keyword and pass in any values the constructor requires. We can then access methods by using our class name, a dot and the name of the method or attribute we want to access."
   ]
  },
  {
   "cell_type": "code",
   "execution_count": 59,
   "metadata": {},
   "outputs": [
    {
     "data": {
      "application/javascript": [
       "let myNewPhone = new Phone(\"Huawei p30 pro\", \"Three\", 25.00);\n"
      ],
      "text/plain": [
       "<IPython.core.display.Javascript object>"
      ]
     },
     "metadata": {},
     "output_type": "display_data"
    }
   ],
   "source": [
    "%%javascript\n",
    "let myNewPhone = new Phone(\"Huawei p30 pro\", \"Three\", 25.00);"
   ]
  },
  {
   "cell_type": "markdown",
   "metadata": {},
   "source": [
    "<a id=\"best\"></a>\n",
    "#### 3.8 Best practices"
   ]
  },
  {
   "cell_type": "markdown",
   "metadata": {},
   "source": [
    "As with CSS, it is not good practice to mix up JS and HTML code for the same reasons. The ideal is to separate out these files and import them into the HTML file as required. We import JS files in a different way to a CSS file. In the example below we have modified the add function you saw earlier to multiply and moved the function into a <code>*.js</code> file called <code>my-script.js</code>. This is then loaded into the head section pointing to the location of the file relative to the HTML file. We can then access the JS functions without having to mix HTML and JavaScript. This helps with maintainability and readability and also lets people work on different aspects of the code base at the same time. We could even split JavaScript functionality over several files that relate to distinct functionality."
   ]
  },
  {
   "cell_type": "code",
   "execution_count": 72,
   "metadata": {},
   "outputs": [
    {
     "data": {
      "text/html": [
       "<html>\n",
       "    <head>\n",
       "        <title>My calculator</title>\n",
       "        <script src=\"./resources/my-script.js\"></script>\n",
       "    </head>\n",
       "    <body>\n",
       "        <h1>Multiplyer</h1>\n",
       "        <div>            \n",
       "            <span>Please enter number one here:</span>\n",
       "            <input id=\"mul-one\" type=\"number\">\n",
       "        </div>\n",
       "        <br>\n",
       "        <div>            \n",
       "            <span>Please enter number two here:</span>\n",
       "            <input id=\"mul-two\" type=\"number\">\n",
       "        </div>\n",
       "        <br>\n",
       "        <button onclick=\"multiplyNumbers();\">Multiply</button>\n",
       "        <br><br>\n",
       "        <span>The answer is: </span><span id=\"mul-answer\"></span>\n",
       "    </body>\n",
       "</html>\n"
      ],
      "text/plain": [
       "<IPython.core.display.HTML object>"
      ]
     },
     "metadata": {},
     "output_type": "display_data"
    }
   ],
   "source": [
    "%%html\n",
    "<html>\n",
    "    <head>\n",
    "        <title>My calculator</title>\n",
    "        <script src=\"./resources/my-script.js\"></script>\n",
    "    </head>\n",
    "    <body>\n",
    "        <h1>Multiplyer</h1>\n",
    "        <div>            \n",
    "            <span>Please enter number one here:</span>\n",
    "            <input id=\"mul-one\" type=\"number\">\n",
    "        </div>\n",
    "        <br>\n",
    "        <div>            \n",
    "            <span>Please enter number two here:</span>\n",
    "            <input id=\"mul-two\" type=\"number\">\n",
    "        </div>\n",
    "        <br>\n",
    "        <button onclick=\"multiplyNumbers();\">Multiply</button>\n",
    "        <br><br>\n",
    "        <span>The answer is: </span><span id=\"mul-answer\"></span>\n",
    "    </body>\n",
    "</html>"
   ]
  },
  {
   "cell_type": "markdown",
   "metadata": {},
   "source": [
    "<a id=\"further\"></a>\n",
    "#### 3.9 Taking things further"
   ]
  },
  {
   "cell_type": "markdown",
   "metadata": {},
   "source": [
    "Hopefully you now have a better understanding of how modern websites are constructed using a combination of CSS, HTML and JavaScript. Of course over time people have also created additional libraries and frameworks (e.g. JQuery, Bootstrap and so on) that can help us to rapidly develop modern websites and do some of the heavy lifting for us. Many sites connect these front-ends to a back-end that has some sort of database functionality for interacting with data. These back-ends tend to be written in other languages like Python, Ruby or PHP for example."
   ]
  },
  {
   "cell_type": "markdown",
   "metadata": {},
   "source": [
    "This notebook has just provided an introduction to JavaScript programming. If you want more information then the w3schools JavaScript pages are a good place to start. You can access this here: <a href=\"https://www.w3schools.com/js/default.asp\" target=\"_blank\">https://www.w3schools.com/js/default.asp</a>. Another great resource is the Web Dev Simplified YouTube channel that takes you through HTML, CSS and JavaScript in great detail. You can access that here: <a href=\"https://www.youtube.com/channel/UCFbNIlppjAuEX4znoulh0Cw\" target=\"_blank\">https://www.youtube.com/channel/UCFbNIlppjAuEX4znoulh0Cw</a>."
   ]
  },
  {
   "cell_type": "markdown",
   "metadata": {},
   "source": [
    "### Notebook details\n",
    "<br>\n",
    "<i>Notebook created by <strong>Dr. Alan Davies</strong> \n",
    "\n",
    "Publish date: March 2021<br>\n",
    "Review date: March 2022</i>\n",
    "\n",
    "Please give your feedback using the button below:"
   ]
  },
  {
   "cell_type": "markdown",
   "metadata": {},
   "source": [
    "<a class=\"typeform-share button\" href=\"https://hub11.typeform.com/to/fgOgAjrk\" data-mode=\"popup\" style=\"display:inline-block;text-decoration:none;background-color:#3A7685;color:white;cursor:pointer;font-family:Helvetica,Arial,sans-serif;font-size:18px;line-height:45px;text-align:center;margin:0;height:45px;padding:0px 30px;border-radius:22px;max-width:100%;white-space:nowrap;overflow:hidden;text-overflow:ellipsis;font-weight:bold;-webkit-font-smoothing:antialiased;-moz-osx-font-smoothing:grayscale;\" target=\"_blank\">Rate this notebook </a> <script> (function() { var qs,js,q,s,d=document, gi=d.getElementById, ce=d.createElement, gt=d.getElementsByTagName, id=\"typef_orm_share\", b=\"https://embed.typeform.com/\"; if(!gi.call(d,id)){ js=ce.call(d,\"script\"); js.id=id; js.src=b+\"embed.js\"; q=gt.call(d,\"script\")[0]; q.parentNode.insertBefore(js,q) } })() </script>"
   ]
  },
  {
   "cell_type": "markdown",
   "metadata": {},
   "source": [
    "## Notes:"
   ]
  },
  {
   "cell_type": "code",
   "execution_count": null,
   "metadata": {},
   "outputs": [],
   "source": []
  },
  {
   "cell_type": "code",
   "execution_count": null,
   "metadata": {},
   "outputs": [],
   "source": []
  },
  {
   "cell_type": "code",
   "execution_count": null,
   "metadata": {},
   "outputs": [],
   "source": []
  }
 ],
 "metadata": {
  "hide_input": false,
  "kernelspec": {
   "display_name": "Python 3",
   "language": "python",
   "name": "python3"
  },
  "language_info": {
   "codemirror_mode": {
    "name": "ipython",
    "version": 3
   },
   "file_extension": ".py",
   "mimetype": "text/x-python",
   "name": "python",
   "nbconvert_exporter": "python",
   "pygments_lexer": "ipython3",
   "version": "3.7.6"
  }
 },
 "nbformat": 4,
 "nbformat_minor": 4
}
