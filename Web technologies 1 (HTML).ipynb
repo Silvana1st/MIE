{
 "cells": [
  {
   "cell_type": "markdown",
   "metadata": {},
   "source": [
    "<img src=\"./resources/MIE.PNG\" width=\"100%\" align=\"left\" />"
   ]
  },
  {
   "cell_type": "markdown",
   "metadata": {},
   "source": [
    "<table style=\"float:right;\">\n",
    "    <tr>\n",
    "        <td>                      \n",
    "            <div style=\"text-align: right\"><a href=\"https://alandavies.netlify.com\" target=\"_blank\">Dr Alan Davies</a></div>\n",
    "            <div style=\"text-align: right\">Senior Lecturer health data science</div>\n",
    "            <div style=\"text-align: right\">University of Manchester</div>\n",
    "         </td>\n",
    "         <td>\n",
    "             <img src=\"./resources/alan.PNG\" width=\"30%\" />\n",
    "         </td>\n",
    "     </tr>\n",
    "</table>"
   ]
  },
  {
   "cell_type": "markdown",
   "metadata": {},
   "source": [
    "# 1.0 Introduction to front end development with HTML\n",
    "****"
   ]
  },
  {
   "cell_type": "markdown",
   "metadata": {},
   "source": [
    "#### About this Notebook\n",
    "This notebook introduces HTML and how it can be used to structure a web page."
   ]
  },
  {
   "cell_type": "markdown",
   "metadata": {},
   "source": [
    "<div class=\"alert alert-block alert-warning\"><b>Learning Objectives:</b> \n",
    "<br/> At the end of this notebook you will be able to:\n",
    "    \n",
    "- Investigate how the different web technologies work together to create a modern web based front end\n",
    "\n",
    "- Practice implementing some HTML elements and exploring their properties\n",
    "\n",
    "</div> "
   ]
  },
  {
   "cell_type": "markdown",
   "metadata": {},
   "source": [
    "<a id=\"top\"></a>\n",
    "\n",
    "<b>Table of contents</b><br/>\n",
    "\n",
    "1.1 [Tags](#tags)\n",
    "\n",
    "1.2 [Tables](#tables)\n",
    "\n",
    "1.3 [UI components](#ui)"
   ]
  },
  {
   "cell_type": "markdown",
   "metadata": {},
   "source": [
    "The core web technologies are <code>HTML (Hyper-Text Mark-up language)</code>, <code>CSS (Cascading Style Sheets)</code> and <code>JavaScript</code>. This notebook introduces these technologies in turn along with some exercises to practice some of these skills. The different technologies work together to make a modern functional web-site. They all contribute something different to this process."
   ]
  },
  {
   "cell_type": "markdown",
   "metadata": {},
   "source": [
    "<ul>\n",
    "    <li>HTML (Hyper-Text Mark-up language)</li>\n",
    "    <ul>\n",
    "        <li>Layout</li>\n",
    "    </ul>\n",
    "    <li>CSS (Cascading Style Sheets)</li>\n",
    "    <ul>\n",
    "        <li>Styling</li>\n",
    "    </ul>\n",
    "    <li>JavaScript</li>\n",
    "    <ul>\n",
    "        <li>Logic and interactivity (fully featured programming language)</li>\n",
    "    </ul>\n",
    "</ul>"
   ]
  },
  {
   "cell_type": "markdown",
   "metadata": {},
   "source": [
    "Essentially you browser (software on your machine e.g. Google Chrome, Edge, Safari etc.) connects to a web server and requests a web page. This is then returned and rendered in the browser. "
   ]
  },
  {
   "cell_type": "markdown",
   "metadata": {},
   "source": [
    "<img src=\"./resources/server.PNG\" width=\"100%\" align=\"center\" />"
   ]
  },
  {
   "cell_type": "markdown",
   "metadata": {},
   "source": [
    "The browser knows how to render the web page because HTML is an agreed upon standard (by the W3C - World Wide Web Consortium). This means that web content can be designed in a standard way and look the same (or very similar) on all browsers. HTML is part of what is known as the <code>Document Object Model</code> or <code>DOM</code>. This is a tree structure of nodes and sub-nodes that defines the content of a web page."
   ]
  },
  {
   "cell_type": "markdown",
   "metadata": {},
   "source": [
    "HTML is made up of a series of <code>elements</code> contained inside opening and closing <code>tags</code>. There is a root element called <code>HTML</code> and two main sub elements called the <code>head</code> and <code>body</code>. The head section contains things like the title of the page, keywords and other metadata and is also used to load additional files. The body section in contrast is where the main content of the page resides. "
   ]
  },
  {
   "cell_type": "markdown",
   "metadata": {},
   "source": [
    "<a id=\"tags\"></a>\n",
    "#### 1.1 Tags"
   ]
  },
  {
   "cell_type": "markdown",
   "metadata": {},
   "source": [
    "Below is an example of the DOM tree structure showing some of the elements and sub-elements. You can see for example that the <code>title</code> element is allowed in the head section and not in the body section."
   ]
  },
  {
   "cell_type": "markdown",
   "metadata": {},
   "source": [
    "<img src=\"./resources/DOM.png\" width=\"50%\" align=\"center\" />"
   ]
  },
  {
   "cell_type": "markdown",
   "metadata": {},
   "source": [
    "<div class=\"alert alert-success\">\n",
    "<b>Note:</b> Below is a HTML tag that is used to make the contents of the tag bold. The <code>%%html</code> is only used to allow us to write HTML code in the notebook environment and is not part of normal HTML coding.\n",
    "</div>"
   ]
  },
  {
   "cell_type": "code",
   "execution_count": 5,
   "metadata": {},
   "outputs": [
    {
     "data": {
      "text/html": [
       "<strong>This text should be bold!</strong>\n"
      ],
      "text/plain": [
       "<IPython.core.display.HTML object>"
      ]
     },
     "metadata": {},
     "output_type": "display_data"
    }
   ],
   "source": [
    "%%html\n",
    "<strong>This text should be bold!</strong>"
   ]
  },
  {
   "cell_type": "markdown",
   "metadata": {},
   "source": [
    "The element here is <code>strong</code>. The opening tag is on the left and the closing tag on the right. Closing tags always have a forward slash before the elements name. The name of the element should be the same for the opening and closing tags. Unlike languages like Python, there are no rules about indentation of code. The tag will continually be applied until a closing tag is found. To improve readability it is common to indent code to make it easier to view nested tags and make sure we can match opening and closing tags. We could write the above like this:"
   ]
  },
  {
   "cell_type": "code",
   "execution_count": 6,
   "metadata": {},
   "outputs": [
    {
     "data": {
      "text/html": [
       "<strong>\n",
       "    This text should be bold!\n",
       "</strong>\n"
      ],
      "text/plain": [
       "<IPython.core.display.HTML object>"
      ]
     },
     "metadata": {},
     "output_type": "display_data"
    }
   ],
   "source": [
    "%%html\n",
    "<strong>\n",
    "    This text should be bold!\n",
    "</strong>"
   ]
  },
  {
   "cell_type": "markdown",
   "metadata": {},
   "source": [
    "We can also write tags in upper or lowercase text. Most tags have an opening and closing tag, some do not. For example the break tag <code>br</code> that adds a line break does not have a closing tag. For example."
   ]
  },
  {
   "cell_type": "code",
   "execution_count": 8,
   "metadata": {},
   "outputs": [
    {
     "data": {
      "text/html": [
       "<p>\n",
       "    Here is some text in a paragraph.<br>\n",
       "    text can be broken over multiple lines using a linebreak.\n",
       "</p>\n"
      ],
      "text/plain": [
       "<IPython.core.display.HTML object>"
      ]
     },
     "metadata": {},
     "output_type": "display_data"
    }
   ],
   "source": [
    "%%html\n",
    "<p>\n",
    "    Here is some text in a paragraph.<br>\n",
    "    text can be broken over multiple lines using a linebreak.\n",
    "</p>"
   ]
  },
  {
   "cell_type": "markdown",
   "metadata": {},
   "source": [
    "Some tags also have <code>attributes</code>. These provide additional information for certain tags. Not all tags have the same attributes. An example is the image tag (that also has no closing tag) and uses an attribute (in this case <code>src</code>) to set the path (source) of an image."
   ]
  },
  {
   "cell_type": "code",
   "execution_count": 9,
   "metadata": {},
   "outputs": [
    {
     "data": {
      "text/html": [
       "<img src=\"./resources/cat.PNG\" />\n"
      ],
      "text/plain": [
       "<IPython.core.display.HTML object>"
      ]
     },
     "metadata": {},
     "output_type": "display_data"
    }
   ],
   "source": [
    "%%html\n",
    "<img src=\"./resources/cat.PNG\" />"
   ]
  },
  {
   "cell_type": "markdown",
   "metadata": {},
   "source": [
    "Some tags are required such as the image source and some are optional such as <code>width</code> and <code>alt</code>. Width sets the width of the image and alt provides alternative text if the image fails to load. The alt text is also used for screen readers with blind people and improves accessibility of web content. These are not the attributes available to the img tag. Some attributes are global to all elements and some are specific to that particular type of element."
   ]
  },
  {
   "cell_type": "code",
   "execution_count": 11,
   "metadata": {},
   "outputs": [
    {
     "data": {
      "text/html": [
       "<img src=\"./resources/cat.PNG\" width=\"10%\" alt=\"An image of a cat\" />\n"
      ],
      "text/plain": [
       "<IPython.core.display.HTML object>"
      ]
     },
     "metadata": {},
     "output_type": "display_data"
    }
   ],
   "source": [
    "%%html\n",
    "<img src=\"./resources/cat.PNG\" width=\"10%\" alt=\"An image of a cat\" />"
   ]
  },
  {
   "cell_type": "markdown",
   "metadata": {},
   "source": [
    "Attributes are followed by an equals and then the value in quotation marks. Here the <code>src</code> attribute states that the image (cat.png) is in a folder called <code>resources</code>. The <code>./</code> refers to a folder relative to this notebook file. Width can be specified in several different ways, for example as a percentage of the width of the screen or in pixels using (px). The <code>alt</code> attribute is just a text string to display if the image cannot be loaded. To see what this looks like I have deliberately misspelt cat as cot. "
   ]
  },
  {
   "cell_type": "code",
   "execution_count": 12,
   "metadata": {},
   "outputs": [
    {
     "data": {
      "text/html": [
       "<img src=\"./resources/cot.PNG\" width=\"10%\" alt=\"An image of a cat\" />\n"
      ],
      "text/plain": [
       "<IPython.core.display.HTML object>"
      ]
     },
     "metadata": {},
     "output_type": "display_data"
    }
   ],
   "source": [
    "%%html\n",
    "<img src=\"./resources/cot.PNG\" width=\"10%\" alt=\"An image of a cat\" />"
   ]
  },
  {
   "cell_type": "markdown",
   "metadata": {},
   "source": [
    "Here you can see it displays the alt text as the image cannot be found. "
   ]
  },
  {
   "cell_type": "markdown",
   "metadata": {
    "solution2": "hidden",
    "solution2_first": true
   },
   "source": [
    "<div class=\"alert alert-block alert-info\">\n",
    "<b>Task 1:</b>\n",
    "<br> \n",
    "    Using the unordered list tag <code>ul</code>. create a list containing the following items: apples, pears and bananas. For more information on HTML tags see <a href=\"https://www.w3schools.com/tags/tag_li.asp\" target=\"_blank\">w3schools</a>.\n",
    "</div>"
   ]
  },
  {
   "cell_type": "code",
   "execution_count": 13,
   "metadata": {
    "solution2": "hidden"
   },
   "outputs": [
    {
     "data": {
      "text/html": [
       "<ul>\n",
       "  <li>apples</li>\n",
       "  <li>pears</li>\n",
       "  <li>bananas</li>\n",
       "</ul>\n"
      ],
      "text/plain": [
       "<IPython.core.display.HTML object>"
      ]
     },
     "metadata": {},
     "output_type": "display_data"
    }
   ],
   "source": [
    "%%html\n",
    "<ul>\n",
    "  <li>apples</li>\n",
    "  <li>pears</li>\n",
    "  <li>bananas</li>\n",
    "</ul>"
   ]
  },
  {
   "cell_type": "code",
   "execution_count": null,
   "metadata": {},
   "outputs": [],
   "source": [
    "%%html\n"
   ]
  },
  {
   "cell_type": "markdown",
   "metadata": {},
   "source": [
    "Below is an example of the basic anatomy of a web page. Here you can see the root node containing the head and body sections. This could be saved as a <code>*.html</code> file and run in a browser. We give the page a title that would be seen in the browser tab. We also use a heading <code>h1</code> and a paragraph <code>p</code> with some text."
   ]
  },
  {
   "cell_type": "code",
   "execution_count": 14,
   "metadata": {},
   "outputs": [
    {
     "data": {
      "text/html": [
       "<!DOCTYPE html>\n",
       "<html>\n",
       "    <head>\n",
       "        <title>My page</title>\n",
       "    </head>\n",
       "    <body>\n",
       "        <h1>Hello world!</h1>\n",
       "        <p>Some content!</p>\n",
       "    </body>\n",
       "</html>\n"
      ],
      "text/plain": [
       "<IPython.core.display.HTML object>"
      ]
     },
     "metadata": {},
     "output_type": "display_data"
    }
   ],
   "source": [
    "%%html\n",
    "<html>\n",
    "    <head>\n",
    "        <title>My page</title>\n",
    "    </head>\n",
    "    <body>\n",
    "        <h1>Hello world!</h1>\n",
    "        <p>Some content!</p>\n",
    "    </body>\n",
    "</html>"
   ]
  },
  {
   "cell_type": "markdown",
   "metadata": {
    "solution2": "hidden",
    "solution2_first": true
   },
   "source": [
    "<div class=\"alert alert-block alert-info\">\n",
    "<b>Task 2:</b>\n",
    "<br> \n",
    "Paste the code above (apart from the %%html) into a simple text editor e.g. notepad (Windows), TextEdit (Mac) or Vim/Emacs (Linux).<br>\n",
    "1. Save the file as <code>index.html</code><br>\n",
    "2. Drag the file into your browser (e.g. Chrome or Safari).\n",
    "</div>"
   ]
  },
  {
   "cell_type": "markdown",
   "metadata": {
    "solution2": "hidden"
   },
   "source": [
    "<img src=\"./resources/www.PNG\" />"
   ]
  },
  {
   "cell_type": "markdown",
   "metadata": {},
   "source": [
    "HTML defines the content of your web page. This can include text and images as we have seen. This can also include user interface (UI) elements like check boxes, buttons and form input as well tables. We will take a quick look at some of these."
   ]
  },
  {
   "cell_type": "markdown",
   "metadata": {},
   "source": [
    "<a id=\"tables\"></a>\n",
    "#### 1.2 Tables"
   ]
  },
  {
   "cell_type": "markdown",
   "metadata": {},
   "source": [
    "Let's say we wanted to create a table to show high, low and ideal blood pressure. Here we use the <code>table</code> tag. Inside this we add some table rows <code>tr</code> and inside each row we add the values using the table data tag <code>td</code>. This is an example of where indenting the code makes it easier to read and understand. The <code>&le;</code> and <code>&ge;</code> are unicode characters used to display less than and equal to and greater than or equal to. You can see a complete list of such characters <a href=\"https://www.w3schools.com/charsets/ref_utf_math.asp\" target=\"_blank\">here</a>."
   ]
  },
  {
   "cell_type": "code",
   "execution_count": 34,
   "metadata": {},
   "outputs": [
    {
     "data": {
      "text/html": [
       "<table>\n",
       "    <tr>\n",
       "        <td>Low</td>\n",
       "        <td>&le; 90/60 mmHg</td>\n",
       "    </tr>\n",
       "    <tr>\n",
       "        <td>Ideal</td>\n",
       "        <td>&ge; 90/60 and &le; 120/80 mmHg </td>\n",
       "    </tr>\n",
       "    <tr>\n",
       "        <td>High</td>\n",
       "        <td>&ge; 140/90 mmHg</td>\n",
       "    </tr>\n",
       "</table>\n"
      ],
      "text/plain": [
       "<IPython.core.display.HTML object>"
      ]
     },
     "metadata": {},
     "output_type": "display_data"
    }
   ],
   "source": [
    "%%html\n",
    "<table>\n",
    "    <tr>\n",
    "        <td>Low</td>\n",
    "        <td>&le; 90/60 mmHg</td>\n",
    "    </tr>\n",
    "    <tr>\n",
    "        <td>Ideal</td>\n",
    "        <td>&ge; 90/60 and &le; 120/80 mmHg </td>\n",
    "    </tr>\n",
    "    <tr>\n",
    "        <td>High</td>\n",
    "        <td>&ge; 140/90 mmHg</td>\n",
    "    </tr>\n",
    "</table>"
   ]
  },
  {
   "cell_type": "markdown",
   "metadata": {},
   "source": [
    "We can further enhance the table using the additional optional head, body and foot elements like so."
   ]
  },
  {
   "cell_type": "code",
   "execution_count": 35,
   "metadata": {},
   "outputs": [
    {
     "data": {
      "text/html": [
       "<table>\n",
       "    <thead>\n",
       "        <tr>\n",
       "            <td>BP level</td>\n",
       "            <td>mmHg</td>\n",
       "        <tr>\n",
       "    </thead>\n",
       "    <tbody>\n",
       "        <tr>\n",
       "            <td>Low</td>\n",
       "            <td>&le;90/60</td>\n",
       "        </tr>\n",
       "        <tr>\n",
       "            <td>Ideal</td>\n",
       "            <td>&ge; 90/60 and &le; 120/80</td>\n",
       "        </tr>\n",
       "        <tr>\n",
       "            <td>High</td>\n",
       "            <td>&ge; 140/90</td>\n",
       "        </tr>\n",
       "    </tbody>\n",
       "    <tfoot>\n",
       "        <tr>\n",
       "            <td colspan=\"2\"><strong>Source:</strong> https://www.nhs.uk/</td>\n",
       "        </tr>\n",
       "    </tfoot>\n",
       "</table>\n"
      ],
      "text/plain": [
       "<IPython.core.display.HTML object>"
      ]
     },
     "metadata": {},
     "output_type": "display_data"
    }
   ],
   "source": [
    "%%html\n",
    "<table>\n",
    "    <thead>\n",
    "        <tr>\n",
    "            <td>BP level</td>\n",
    "            <td>mmHg</td>\n",
    "        <tr>\n",
    "    </thead>\n",
    "    <tbody>\n",
    "        <tr>\n",
    "            <td>Low</td>\n",
    "            <td>&le;90/60</td>\n",
    "        </tr>\n",
    "        <tr>\n",
    "            <td>Ideal</td>\n",
    "            <td>&ge; 90/60 and &le; 120/80</td>\n",
    "        </tr>\n",
    "        <tr>\n",
    "            <td>High</td>\n",
    "            <td>&ge; 140/90</td>\n",
    "        </tr>\n",
    "    </tbody>\n",
    "    <tfoot>\n",
    "        <tr>\n",
    "            <td colspan=\"2\"><strong>Source:</strong> https://www.nhs.uk/</td>\n",
    "        </tr>\n",
    "    </tfoot>\n",
    "</table>"
   ]
  },
  {
   "cell_type": "markdown",
   "metadata": {},
   "source": [
    "Using these features we can add sortable headings. The footer can be used for column summaries e.g. total or to add a note. Here we are spanning both columns with the <code>colspan</code> attribute."
   ]
  },
  {
   "cell_type": "markdown",
   "metadata": {},
   "source": [
    "<table>\n",
    "    <thead>\n",
    "        <tr>\n",
    "            <td>Name</td>\n",
    "            <td>Blood pressure</td>\n",
    "            <td>Heart rate</td>\n",
    "        <tr>\n",
    "    </thead>\n",
    "    <tbody>\n",
    "        <tr>\n",
    "            <td>Alison Symmonds</td>\n",
    "            <td>120/62</td>\n",
    "            <td>101</td>\n",
    "        </tr>\n",
    "        <tr>\n",
    "            <td>Paul Smith</td>\n",
    "            <td>155/72</td>\n",
    "            <td>65</td>\n",
    "        </tr>\n",
    "        <tr>\n",
    "            <td>David Williams</td>\n",
    "            <td>134/64</td>\n",
    "            <td>62</td>\n",
    "        </tr>\n",
    "        <tr>\n",
    "            <td>Pauline Smethic</td>\n",
    "            <td>144/63</td>\n",
    "            <td>76</td>\n",
    "        </tr>        \n",
    "    </tbody>\n",
    "</table>"
   ]
  },
  {
   "cell_type": "markdown",
   "metadata": {
    "solution2": "hidden",
    "solution2_first": true
   },
   "source": [
    "<div class=\"alert alert-block alert-info\">\n",
    "<b>Task 3:</b>\n",
    "<br> \n",
    "Recreate create the table seen above using the code for the table above that one as a reference.\n",
    "</div>"
   ]
  },
  {
   "cell_type": "code",
   "execution_count": 25,
   "metadata": {
    "cell_style": "split",
    "solution2": "hidden"
   },
   "outputs": [
    {
     "data": {
      "text/html": [
       "<table>\n",
       "    <thead>\n",
       "        <tr>\n",
       "            <td>Name</td>\n",
       "            <td>Blood pressure</td>\n",
       "            <td>Heart rate</td>\n",
       "        <tr>\n",
       "    </thead>\n",
       "    <tbody>\n",
       "        <tr>\n",
       "            <td>Alison Symmonds</td>\n",
       "            <td>120/62</td>\n",
       "            <td>101</td>\n",
       "        </tr>\n",
       "        <tr>\n",
       "            <td>Paul Smith</td>\n",
       "            <td>155/72</td>\n",
       "            <td>65</td>\n",
       "        </tr>\n",
       "        <tr>\n",
       "            <td>David Williams</td>\n",
       "            <td>134/64</td>\n",
       "            <td>62</td>\n",
       "        </tr>\n",
       "        <tr>\n",
       "            <td>Pauline Smethic</td>\n",
       "            <td>144/63</td>\n",
       "            <td>76</td>\n",
       "        </tr>        \n",
       "    </tbody>\n",
       "</table>\n"
      ],
      "text/plain": [
       "<IPython.core.display.HTML object>"
      ]
     },
     "metadata": {},
     "output_type": "display_data"
    }
   ],
   "source": [
    "%%html\n",
    "<table>\n",
    "    <thead>\n",
    "        <tr>\n",
    "            <td>Name</td>\n",
    "            <td>Blood pressure</td>\n",
    "            <td>Heart rate</td>\n",
    "        <tr>\n",
    "    </thead>\n",
    "    <tbody>\n",
    "        <tr>\n",
    "            <td>Alison Symmonds</td>\n",
    "            <td>120/62</td>\n",
    "            <td>101</td>\n",
    "        </tr>\n",
    "        <tr>\n",
    "            <td>Paul Smith</td>\n",
    "            <td>155/72</td>\n",
    "            <td>65</td>\n",
    "        </tr>\n",
    "        <tr>\n",
    "            <td>David Williams</td>\n",
    "            <td>134/64</td>\n",
    "            <td>62</td>\n",
    "        </tr>\n",
    "        <tr>\n",
    "            <td>Pauline Smethic</td>\n",
    "            <td>144/63</td>\n",
    "            <td>76</td>\n",
    "        </tr>        \n",
    "    </tbody>\n",
    "</table>"
   ]
  },
  {
   "cell_type": "code",
   "execution_count": null,
   "metadata": {},
   "outputs": [],
   "source": [
    "%%html\n"
   ]
  },
  {
   "cell_type": "markdown",
   "metadata": {},
   "source": [
    "<a id=\"ui\"></a>\n",
    "#### 1.3 UI components"
   ]
  },
  {
   "cell_type": "markdown",
   "metadata": {},
   "source": [
    "Aside from displaying text, images and tables we may also need to collect input from users to process something. This could be an online shop, data dashboard or other web based service. One example of this is the <code>input</code> element that can be customised with the <code>type</code> attribute. Three common types include <code>text</code> for textual input, <code>number</code> for numeric input and <code>password</code> for the inputting of passwords. Try adding some text/numbers to the input boxes below."
   ]
  },
  {
   "cell_type": "code",
   "execution_count": 26,
   "metadata": {},
   "outputs": [
    {
     "data": {
      "text/html": [
       "<input type=\"text\">\n"
      ],
      "text/plain": [
       "<IPython.core.display.HTML object>"
      ]
     },
     "metadata": {},
     "output_type": "display_data"
    }
   ],
   "source": [
    "%%html\n",
    "<input type=\"text\">"
   ]
  },
  {
   "cell_type": "code",
   "execution_count": 27,
   "metadata": {},
   "outputs": [
    {
     "data": {
      "text/html": [
       "<input type=\"number\">\n"
      ],
      "text/plain": [
       "<IPython.core.display.HTML object>"
      ]
     },
     "metadata": {},
     "output_type": "display_data"
    }
   ],
   "source": [
    "%%html\n",
    "<input type=\"number\">"
   ]
  },
  {
   "cell_type": "code",
   "execution_count": 28,
   "metadata": {},
   "outputs": [
    {
     "data": {
      "text/html": [
       "<input type=\"password\">\n"
      ],
      "text/plain": [
       "<IPython.core.display.HTML object>"
      ]
     },
     "metadata": {},
     "output_type": "display_data"
    }
   ],
   "source": [
    "%%html\n",
    "<input type=\"password\">"
   ]
  },
  {
   "cell_type": "markdown",
   "metadata": {},
   "source": [
    "We can also use input for checkbox type inputs too:"
   ]
  },
  {
   "cell_type": "code",
   "execution_count": 30,
   "metadata": {},
   "outputs": [
    {
     "data": {
      "text/html": [
       "<p>Which types of excersize do you do?</p>\n",
       "<div>\n",
       "    <input id=\"swimming\" type=\"checkbox\" checked>\n",
       "    <label for=\"swimming\">Swimming</label>\n",
       "</div>\n",
       "<div>\n",
       "    <input id=\"martial-arts\" type=\"checkbox\">\n",
       "    <label for=\"martial-arts\">Martial arts</label>\n",
       "</div>\n",
       "<div>\n",
       "    <input id=\"weight-lifting\" type=\"checkbox\">\n",
       "    <label for=\"weight-lifting\">Weight lifting</label>\n",
       "</div>\n"
      ],
      "text/plain": [
       "<IPython.core.display.HTML object>"
      ]
     },
     "metadata": {},
     "output_type": "display_data"
    }
   ],
   "source": [
    "%%html\n",
    "<p>Which types of excersize do you do?</p>\n",
    "<div>\n",
    "    <input id=\"swimming\" type=\"checkbox\" checked>\n",
    "    <label for=\"swimming\">Swimming</label>\n",
    "</div>\n",
    "<div>\n",
    "    <input id=\"martial-arts\" type=\"checkbox\">\n",
    "    <label for=\"martial-arts\">Martial arts</label>\n",
    "</div>\n",
    "<div>\n",
    "    <input id=\"weight-lifting\" type=\"checkbox\">\n",
    "    <label for=\"weight-lifting\">Weight lifting</label>\n",
    "</div>"
   ]
  },
  {
   "cell_type": "markdown",
   "metadata": {},
   "source": [
    "There are a few things going on here. Firstly we are using the <code>div</code> tag to divide up content into separate containers. We then add 3 checkboxes. The first has the additional parameter <code>checked</code> which checks the box by default. Each check box also has an accompanying <code>label</code> to display the related text next to each box. The label is associated with its box using the <code>id</code> attribute. We will revisit this concept of giving each element a unique identifier when we look at CSS and JavaScript in subsequent notebooks."
   ]
  },
  {
   "cell_type": "markdown",
   "metadata": {
    "solution2": "hidden",
    "solution2_first": true
   },
   "source": [
    "<div class=\"alert alert-block alert-info\">\n",
    "<b>Task 4:</b>\n",
    "<br> \n",
    "Checkboxes allow multiple input to be selected. Copy and modify the code above and change the type from <code>checkbox</code> to <code>radio</code> so only one option can be used. You will also need to add a <code>name</code> parameter (with the same name used for each radio button). For more information about radio buttons see <a href=\"https://www.w3schools.com/tags/att_input_type_radio.asp\" target=\"_blank\">w3schools</a>. You will also need to change the id's and name them something different.\n",
    "</div>"
   ]
  },
  {
   "cell_type": "code",
   "execution_count": 32,
   "metadata": {
    "solution2": "hidden"
   },
   "outputs": [
    {
     "data": {
      "text/html": [
       "<p>Which types of excersize do you do?</p>\n",
       "<div>\n",
       "    <input id=\"swimming-radio\" type=\"radio\" name=\"excersize\">\n",
       "    <label for=\"swimming-radio\">Swimming</label>\n",
       "</div>\n",
       "<div>\n",
       "    <input id=\"martial-arts-radio\" type=\"radio\" name=\"excersize\">\n",
       "    <label for=\"martial-arts-radio\">Martial arts</label>\n",
       "</div>\n",
       "<div>\n",
       "    <input id=\"weight-lifting-radio\" type=\"radio\" name=\"excersize\">\n",
       "    <label for=\"weight-lifting-radio\">Weight lifting</label>\n",
       "</div>\n"
      ],
      "text/plain": [
       "<IPython.core.display.HTML object>"
      ]
     },
     "metadata": {},
     "output_type": "display_data"
    }
   ],
   "source": [
    "%%html\n",
    "<p>Which types of excersize do you do?</p>\n",
    "<div>\n",
    "    <input id=\"swimming-radio\" type=\"radio\" name=\"excersize\">\n",
    "    <label for=\"swimming-radio\">Swimming</label>\n",
    "</div>\n",
    "<div>\n",
    "    <input id=\"martial-arts-radio\" type=\"radio\" name=\"excersize\">\n",
    "    <label for=\"martial-arts-radio\">Martial arts</label>\n",
    "</div>\n",
    "<div>\n",
    "    <input id=\"weight-lifting-radio\" type=\"radio\" name=\"excersize\">\n",
    "    <label for=\"weight-lifting-radio\">Weight lifting</label>\n",
    "</div>"
   ]
  },
  {
   "cell_type": "code",
   "execution_count": null,
   "metadata": {},
   "outputs": [],
   "source": [
    "%%html\n"
   ]
  },
  {
   "cell_type": "markdown",
   "metadata": {},
   "source": [
    "In the next notebook we will look at how we can use CSS to add styles to web content. "
   ]
  },
  {
   "cell_type": "markdown",
   "metadata": {},
   "source": [
    "### Notebook details\n",
    "<br>\n",
    "<i>Notebook created by <strong>Dr. Alan Davies</strong> \n",
    "\n",
    "Publish date: March 2021<br>\n",
    "Review date: March 2022</i>\n",
    "\n",
    "Please give your feedback using the button below:"
   ]
  },
  {
   "cell_type": "markdown",
   "metadata": {},
   "source": [
    "<a class=\"typeform-share button\" href=\"https://hub11.typeform.com/to/dQ78QIiZ\" data-mode=\"popup\" style=\"display:inline-block;text-decoration:none;background-color:#3A7685;color:white;cursor:pointer;font-family:Helvetica,Arial,sans-serif;font-size:18px;line-height:45px;text-align:center;margin:0;height:45px;padding:0px 30px;border-radius:22px;max-width:100%;white-space:nowrap;overflow:hidden;text-overflow:ellipsis;font-weight:bold;-webkit-font-smoothing:antialiased;-moz-osx-font-smoothing:grayscale;\" target=\"_blank\">Rate this notebook </a> <script> (function() { var qs,js,q,s,d=document, gi=d.getElementById, ce=d.createElement, gt=d.getElementsByTagName, id=\"typef_orm_share\", b=\"https://embed.typeform.com/\"; if(!gi.call(d,id)){ js=ce.call(d,\"script\"); js.id=id; js.src=b+\"embed.js\"; q=gt.call(d,\"script\")[0]; q.parentNode.insertBefore(js,q) } })() </script>"
   ]
  },
  {
   "cell_type": "markdown",
   "metadata": {},
   "source": [
    "## Notes:"
   ]
  },
  {
   "cell_type": "code",
   "execution_count": null,
   "metadata": {},
   "outputs": [],
   "source": []
  },
  {
   "cell_type": "code",
   "execution_count": null,
   "metadata": {},
   "outputs": [],
   "source": []
  },
  {
   "cell_type": "code",
   "execution_count": null,
   "metadata": {},
   "outputs": [],
   "source": []
  }
 ],
 "metadata": {
  "hide_input": false,
  "kernelspec": {
   "display_name": "Python 3",
   "language": "python",
   "name": "python3"
  },
  "language_info": {
   "codemirror_mode": {
    "name": "ipython",
    "version": 3
   },
   "file_extension": ".py",
   "mimetype": "text/x-python",
   "name": "python",
   "nbconvert_exporter": "python",
   "pygments_lexer": "ipython3",
   "version": "3.7.6"
  }
 },
 "nbformat": 4,
 "nbformat_minor": 4
}
