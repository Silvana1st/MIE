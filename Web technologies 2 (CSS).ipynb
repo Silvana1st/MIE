{
 "cells": [
  {
   "cell_type": "markdown",
   "metadata": {},
   "source": [
    "<img src=\"./resources/MIE.PNG\" width=\"100%\" align=\"left\" />"
   ]
  },
  {
   "cell_type": "markdown",
   "metadata": {},
   "source": [
    "<table style=\"float:right;\">\n",
    "    <tr>\n",
    "        <td>                      \n",
    "            <div style=\"text-align: right\"><a href=\"https://alandavies.netlify.com\" target=\"_blank\">Dr Alan Davies</a></div>\n",
    "            <div style=\"text-align: right\">Senior Lecturer health data science</div>\n",
    "            <div style=\"text-align: right\">University of Manchester</div>\n",
    "         </td>\n",
    "         <td>\n",
    "             <img src=\"./resources/alan.PNG\" width=\"30%\" />\n",
    "         </td>\n",
    "     </tr>\n",
    "</table>"
   ]
  },
  {
   "cell_type": "markdown",
   "metadata": {},
   "source": [
    "# 2.0 Introduction to styling web content with CSS\n",
    "****"
   ]
  },
  {
   "cell_type": "markdown",
   "metadata": {},
   "source": [
    "#### About this Notebook\n",
    "This notebook introduces styling web content using cascading style sheets."
   ]
  },
  {
   "cell_type": "markdown",
   "metadata": {},
   "source": [
    "<div class=\"alert alert-block alert-warning\"><b>Learning Objectives:</b> \n",
    "<br/> At the end of this notebook you will be able to:\n",
    "    \n",
    "- Explore and practice the styling of web elements with CSS\n",
    "   \n",
    "- Investigate the best practice for combining HTML and CSS\n",
    "\n",
    "</div> "
   ]
  },
  {
   "cell_type": "markdown",
   "metadata": {},
   "source": [
    "<a id=\"top\"></a>\n",
    "\n",
    "<b>Table of contents</b><br>\n",
    "\n",
    "2.1 [Using id's](#ids)\n",
    "\n",
    "2.2 [Using classes](#classes)"
   ]
  },
  {
   "cell_type": "markdown",
   "metadata": {},
   "source": [
    "Cascading Style Sheets (CSS) are used to add the styles to your HTML elements. This includes colour, shape, position, fonts etc. There are several ways of adding styles to HTML elements. One method is to use the <code>style</code> tag to add CSS styling to an element."
   ]
  },
  {
   "cell_type": "code",
   "execution_count": 3,
   "metadata": {},
   "outputs": [
    {
     "data": {
      "text/html": [
       "<html>\n",
       "    <head>\n",
       "        <title>My page</title>\n",
       "    </head>\n",
       "    <body>\n",
       "        <div style=\"background-color:lightgrey;\">\n",
       "            <h1>Hello world!</h1>\n",
       "            <p>Some content!</p>\n",
       "        </div>\n",
       "    </body>\n",
       "</html>\n"
      ],
      "text/plain": [
       "<IPython.core.display.HTML object>"
      ]
     },
     "metadata": {},
     "output_type": "display_data"
    }
   ],
   "source": [
    "%%html\n",
    "<html>\n",
    "    <head>\n",
    "        <title>My page</title>\n",
    "    </head>\n",
    "    <body>\n",
    "        <div style=\"background-color:lightgrey;\">\n",
    "            <h1>Hello world!</h1>\n",
    "            <p>Some content!</p>\n",
    "        </div>\n",
    "    </body>\n",
    "</html>"
   ]
  },
  {
   "cell_type": "markdown",
   "metadata": {},
   "source": [
    "Each CSS statement has a <code>property</code> followed by a colon (:) and a <code>value</code> for the property. In the example above <code>background-color</code> is the property we want to change and <code>lightgrey</code> is the value we want to set. After each value we add a semi-colon (;)."
   ]
  },
  {
   "cell_type": "markdown",
   "metadata": {},
   "source": [
    "<div class=\"alert alert-success\">\n",
    "<b>Note:</b> CSS colours can be represented in different ways such as by name, hexidecimal code or RGB values. To view some examples see <a href=\"https://htmlcolorcodes.com/\" target=\"_blank\">https://htmlcolorcodes.com/</a>.\n",
    "</div>"
   ]
  },
  {
   "cell_type": "markdown",
   "metadata": {},
   "source": [
    "We can add additional properties and values by simply placing them one after the other separated by semi-colons. Below we add a font colour and some padding (5 pixels) around the div. Note the American spelling of colour."
   ]
  },
  {
   "cell_type": "code",
   "execution_count": 5,
   "metadata": {},
   "outputs": [
    {
     "data": {
      "text/html": [
       "<html>\n",
       "    <head>\n",
       "        <title>My page</title>\n",
       "    </head>\n",
       "    <body>\n",
       "        <div style=\"background-color:lightgrey;color:darkblue;padding:5px;\">\n",
       "            <h1>Hello world!</h1>\n",
       "            <p>Some content!</p>\n",
       "        </div>\n",
       "    </body>\n",
       "</html>\n"
      ],
      "text/plain": [
       "<IPython.core.display.HTML object>"
      ]
     },
     "metadata": {},
     "output_type": "display_data"
    }
   ],
   "source": [
    "%%html\n",
    "<html>\n",
    "    <head>\n",
    "        <title>My page</title>\n",
    "    </head>\n",
    "    <body>\n",
    "        <div style=\"background-color:lightgrey;color:darkblue;padding:5px;\">\n",
    "            <h1>Hello world!</h1>\n",
    "            <p>Some content!</p>\n",
    "        </div>\n",
    "    </body>\n",
    "</html>"
   ]
  },
  {
   "cell_type": "markdown",
   "metadata": {
    "solution2": "hidden",
    "solution2_first": true
   },
   "source": [
    "<div class=\"alert alert-block alert-info\">\n",
    "<b>Task 1:</b>\n",
    "<br> \n",
    "Can you think of any issues with adding styling this way? You can jot them down in the cell blow.\n",
    "</div>"
   ]
  },
  {
   "cell_type": "markdown",
   "metadata": {
    "solution2": "hidden"
   },
   "source": [
    "1. This mixes HTML and CSS code together on the same line making it harder to read and maintain.<br>\n",
    "2. We would have to add this code to every element that we want to add the style to even we want to use the same style for multiple elements."
   ]
  },
  {
   "cell_type": "markdown",
   "metadata": {},
   "source": []
  },
  {
   "cell_type": "markdown",
   "metadata": {},
   "source": [
    "To improve this we can separate out the code by placing all the styles inside a <code>style</code> tag. "
   ]
  },
  {
   "cell_type": "markdown",
   "metadata": {},
   "source": [
    "<a id=\"ids\"></a>\n",
    "#### 2.1 Using Id's"
   ]
  },
  {
   "cell_type": "markdown",
   "metadata": {},
   "source": [
    "We can add elements like <code>div</code> or <code>p</code> in the style tag to add styles to all divs or paragraphs for example (if we do this in the notebook it will affect the look of entire notebook so we don't show an example here). If we want to style a specific tag we can give the tag a <u>unique</u> name using the <code>id</code> attribute. These names can be anything you like. It is common to use <code>kebab-case</code> which features a dash between each word like a kebab scewer. In the style tag we can refer to this name by preceeding it with a hash symbol and then adding the styles. The styles are encased between braces ({}). Here we can place them on their own lines to make it more readable. In the example below there are 2 divs, you can see that the style is applied to the first div only.  "
   ]
  },
  {
   "cell_type": "code",
   "execution_count": 10,
   "metadata": {},
   "outputs": [
    {
     "data": {
      "text/html": [
       "<html>\n",
       "    <head>\n",
       "        <title>My page</title>\n",
       "        <style>\n",
       "            #main-page {\n",
       "                background-color:lightgrey;\n",
       "                color:darkblue;\n",
       "            }\n",
       "        </style>\n",
       "    </head>\n",
       "    <body>\n",
       "        <div id=\"main-page\">\n",
       "            <h1>Hello world!</h1>\n",
       "            <p>Some content!</p>\n",
       "        </div>\n",
       "        <div>\n",
       "            <h1>Hello world!</h1>\n",
       "            <p>Some content!</p>\n",
       "        </div>\n",
       "    </body>\n",
       "</html>\n"
      ],
      "text/plain": [
       "<IPython.core.display.HTML object>"
      ]
     },
     "metadata": {},
     "output_type": "display_data"
    }
   ],
   "source": [
    "%%html\n",
    "<html>\n",
    "    <head>\n",
    "        <title>My page</title>\n",
    "        <style>\n",
    "            #main-page {\n",
    "                background-color:lightgrey;\n",
    "                color:darkblue;\n",
    "            }\n",
    "        </style>\n",
    "    </head>\n",
    "    <body>\n",
    "        <div id=\"main-page\">\n",
    "            <h1>Hello world!</h1>\n",
    "            <p>Some content!</p>\n",
    "        </div>\n",
    "        <div>\n",
    "            <h1>Hello world!</h1>\n",
    "            <p>Some content!</p>\n",
    "        </div>\n",
    "    </body>\n",
    "</html>"
   ]
  },
  {
   "cell_type": "markdown",
   "metadata": {
    "solution2": "hidden",
    "solution2_first": true
   },
   "source": [
    "<div class=\"alert alert-block alert-info\">\n",
    "<b>Task 2:</b>\n",
    "<br> \n",
    "Copy the code above and add a new style to the second div. Make the background <code>darkblue</code> and the font <code>red</code>.\n",
    "</div>"
   ]
  },
  {
   "cell_type": "code",
   "execution_count": 13,
   "metadata": {
    "solution2": "hidden"
   },
   "outputs": [
    {
     "data": {
      "text/html": [
       "<html>\n",
       "    <head>\n",
       "        <title>My page</title>\n",
       "        <style>\n",
       "            #main-page {\n",
       "                background-color:lightgrey;\n",
       "                color:darkblue;\n",
       "            }\n",
       "            #sub-page {\n",
       "                background-color:darkblue;\n",
       "                color:red;\n",
       "            }\n",
       "        </style>\n",
       "    </head>\n",
       "    <body>\n",
       "        <div id=\"main-page\">\n",
       "            <h1>Hello world!</h1>\n",
       "            <p>Some content!</p>\n",
       "        </div>\n",
       "        <div id=\"sub-page\">\n",
       "            <h1>Hello world!</h1>\n",
       "            <p>Some content!</p>\n",
       "        </div>\n",
       "    </body>\n",
       "</html>\n"
      ],
      "text/plain": [
       "<IPython.core.display.HTML object>"
      ]
     },
     "metadata": {},
     "output_type": "display_data"
    }
   ],
   "source": [
    "%%html\n",
    "<html>\n",
    "    <head>\n",
    "        <title>My page</title>\n",
    "        <style>\n",
    "            #main-page {\n",
    "                background-color:lightgrey;\n",
    "                color:darkblue;\n",
    "            }\n",
    "            #sub-page {\n",
    "                background-color:darkblue;\n",
    "                color:red;\n",
    "            }\n",
    "        </style>\n",
    "    </head>\n",
    "    <body>\n",
    "        <div id=\"main-page\">\n",
    "            <h1>Hello world!</h1>\n",
    "            <p>Some content!</p>\n",
    "        </div>\n",
    "        <div id=\"sub-page\">\n",
    "            <h1>Hello world!</h1>\n",
    "            <p>Some content!</p>\n",
    "        </div>\n",
    "    </body>\n",
    "</html>"
   ]
  },
  {
   "cell_type": "code",
   "execution_count": null,
   "metadata": {},
   "outputs": [],
   "source": [
    "%%html\n"
   ]
  },
  {
   "cell_type": "markdown",
   "metadata": {},
   "source": [
    "To summarise, we can add a selector, this can be an existing element like a heading, table, div etc. or one we invent and add our own with an <code>id</code> attribute. Then between braces we can add one or more sets of properties and values."
   ]
  },
  {
   "cell_type": "markdown",
   "metadata": {},
   "source": [
    "<img src=\"./resources/css.png\" width=\"100%\" align=\"left\" />"
   ]
  },
  {
   "cell_type": "markdown",
   "metadata": {},
   "source": [
    "<strong>Source:</strong> https://www.w3schools.com/css/css_syntax.asp"
   ]
  },
  {
   "cell_type": "markdown",
   "metadata": {},
   "source": [
    "Here is an information box with a list of some cardiac conditions: "
   ]
  },
  {
   "cell_type": "markdown",
   "metadata": {},
   "source": [
    "<img src=\"./resources/cardiac.png\" width=\"50%\" align=\"left\" />"
   ]
  },
  {
   "cell_type": "markdown",
   "metadata": {
    "solution2": "hidden",
    "solution2_first": true
   },
   "source": [
    "<div class=\"alert alert-block alert-info\">\n",
    "<b>Task 3:</b>\n",
    "<br> \n",
    "Recreate the box above using CSS. Specifically:\n",
    "<ul>\n",
    "    <li>Make the background dark blue</li>\n",
    "    <li>Set the width to 50% of the screens (notebooks) width</li>\n",
    "    <li>Change the font colour to yellow</li>\n",
    "    <li>Add 5 pixels of padding</li>\n",
    "    <li>Add a 5 pixel margin</li>\n",
    "    <li>Add a border 4 pixels, solid yellow</li>\n",
    "</ul>\n",
    "If you need more information about styles, see: <a href=\"https://www.w3schools.com/css/default.asp\" target=\"_blank\">https://www.w3schools.com/css/default.asp</a>.\n",
    "</div>"
   ]
  },
  {
   "cell_type": "code",
   "execution_count": 17,
   "metadata": {
    "solution2": "hidden"
   },
   "outputs": [
    {
     "data": {
      "text/html": [
       "<html>\n",
       "    <head>\n",
       "        <title>My page</title>\n",
       "        <style>\n",
       "            #cardiac-box {\n",
       "                background-color: darkblue;\n",
       "                color: yellow;\n",
       "                border: 4px solid yellow;\n",
       "                width: 50%;\n",
       "                padding: 5px;\n",
       "                margin: 5px;\n",
       "            }\n",
       "        </style>\n",
       "    </head>\n",
       "    <body>\n",
       "        <div id=\"cardiac-box\">\n",
       "            <h1>Cardiac conditions:</h1>\n",
       "            <ul>\n",
       "                <li>Atrial fibrillation</li>\n",
       "                <li>ST-elevation myocardial infarction</li>\n",
       "                <li>Ventricular tachycardia</li>\n",
       "                <li>. . .</li>\n",
       "            </ul>\n",
       "        </div>\n",
       "    </body>\n",
       "</html>\n"
      ],
      "text/plain": [
       "<IPython.core.display.HTML object>"
      ]
     },
     "metadata": {},
     "output_type": "display_data"
    }
   ],
   "source": [
    "%%html\n",
    "<html>\n",
    "    <head>\n",
    "        <title>My page</title>\n",
    "        <style>\n",
    "            #cardiac-box {\n",
    "                background-color: darkblue;\n",
    "                color: yellow;\n",
    "                border: 4px solid yellow;\n",
    "                width: 50%;\n",
    "                padding: 5px;\n",
    "                margin: 5px;\n",
    "            }\n",
    "        </style>\n",
    "    </head>\n",
    "    <body>\n",
    "        <div id=\"cardiac-box\">\n",
    "            <h1>Cardiac conditions:</h1>\n",
    "            <ul>\n",
    "                <li>Atrial fibrillation</li>\n",
    "                <li>ST-elevation myocardial infarction</li>\n",
    "                <li>Ventricular tachycardia</li>\n",
    "                <li>. . .</li>\n",
    "            </ul>\n",
    "        </div>\n",
    "    </body>\n",
    "</html>"
   ]
  },
  {
   "cell_type": "code",
   "execution_count": null,
   "metadata": {},
   "outputs": [],
   "source": [
    "%%html\n"
   ]
  },
  {
   "cell_type": "markdown",
   "metadata": {},
   "source": [
    "<a id=\"classes\"></a>\n",
    "#### 2.2 Using classes"
   ]
  },
  {
   "cell_type": "markdown",
   "metadata": {},
   "source": [
    "If we want to apply a style to multiple elements, not one or all of a certain type (e.g. all paragraphs) we can use a <code>class</code>."
   ]
  },
  {
   "cell_type": "markdown",
   "metadata": {},
   "source": [
    "<div class=\"alert alert-success\">\n",
    "<b>Note:</b> In this context a class means something very different to the type of classes you may come across in programming languages (e.g. Object Orientated Programming).\n",
    "</div>"
   ]
  },
  {
   "cell_type": "markdown",
   "metadata": {},
   "source": [
    "In the example below we can see 4 paragraphs. For 3 of the paragraphs we are applying our <code>sub-para</code> class. The first we don't apply any class. Note that we replace the attribute <code>id</code> with <code>class</code>. We also replace the hash in the style tag with a period (full stop) to denote a class. "
   ]
  },
  {
   "cell_type": "code",
   "execution_count": 1,
   "metadata": {},
   "outputs": [
    {
     "data": {
      "text/html": [
       "<html>\n",
       "    <head>\n",
       "        <title>My page</title>\n",
       "        <style>\n",
       "            .sub-para {\n",
       "                font-style: italic;\n",
       "                background-color: silver;\n",
       "                color: maroon;\n",
       "                padding: 5px;\n",
       "                width: 50%;\n",
       "            }\n",
       "        </style>\n",
       "    </head>\n",
       "    <body>\n",
       "        <h1>Some paragraphs</h1>\n",
       "        <p>Some content.</p>\n",
       "        <p class=\"sub-para\">Some more content</p>\n",
       "        <p class=\"sub-para\">Another paragraph.</p>\n",
       "        <p class=\"sub-para\">And another.</p>\n",
       "    </body>\n",
       "</html>\n"
      ],
      "text/plain": [
       "<IPython.core.display.HTML object>"
      ]
     },
     "metadata": {},
     "output_type": "display_data"
    }
   ],
   "source": [
    "%%html\n",
    "<html>\n",
    "    <head>\n",
    "        <title>My page</title>\n",
    "        <style>\n",
    "            .sub-para {\n",
    "                font-style: italic;\n",
    "                background-color: silver;\n",
    "                color: maroon;\n",
    "                padding: 5px;\n",
    "                width: 50%;\n",
    "            }\n",
    "        </style>\n",
    "    </head>\n",
    "    <body>\n",
    "        <h1>Some paragraphs</h1>\n",
    "        <p>Some content.</p>\n",
    "        <p class=\"sub-para\">Some more content</p>\n",
    "        <p class=\"sub-para\">Another paragraph.</p>\n",
    "        <p class=\"sub-para\">And another.</p>\n",
    "    </body>\n",
    "</html>"
   ]
  },
  {
   "cell_type": "markdown",
   "metadata": {},
   "source": [
    "<div class=\"alert alert-success\">\n",
    "    <b>Note:</b> Id's are referenced in CSS with a hash <code>#</code> classes are referenced with a dot <code>.</code> any other element is just referenced by the element name e.g. <code>div</code> or <code>table</code> etc.\n",
    "</div>"
   ]
  },
  {
   "cell_type": "markdown",
   "metadata": {},
   "source": [
    "We can also add multiple classes to an element separating them with a space. Note that an important feature of cascading styles is that styles can be inherited (from parent nodes) and also overridden. The background colour and, font colour and style override the sub-para class when we add the selected-para class."
   ]
  },
  {
   "cell_type": "code",
   "execution_count": 23,
   "metadata": {},
   "outputs": [
    {
     "data": {
      "text/html": [
       "<html>\n",
       "    <head>\n",
       "        <title>My page</title>\n",
       "        <style>\n",
       "            .sub-para {\n",
       "                font-style: italic;\n",
       "                background-color:silver;\n",
       "                color:maroon;\n",
       "                padding:5px;\n",
       "                width:50%;\n",
       "            }\n",
       "            .selected-para {\n",
       "                font-style: normal;\n",
       "                background-color:gold;\n",
       "                color:red;\n",
       "            }\n",
       "        </style>\n",
       "    </head>\n",
       "    <body>\n",
       "        <h1>Some paragraphs</h1>\n",
       "        <p>Some content.</p>\n",
       "        <p class=\"sub-para\">Some more content</p>\n",
       "        <p class=\"sub-para\">Another paragraph.</p>\n",
       "        <p class=\"sub-para selected-para\">And another.</p>\n",
       "    </body>\n",
       "</html>\n"
      ],
      "text/plain": [
       "<IPython.core.display.HTML object>"
      ]
     },
     "metadata": {},
     "output_type": "display_data"
    }
   ],
   "source": [
    "%%html\n",
    "<html>\n",
    "    <head>\n",
    "        <title>My page</title>\n",
    "        <style>\n",
    "            .sub-para {\n",
    "                font-style: italic;\n",
    "                background-color:silver;\n",
    "                color:maroon;\n",
    "                padding:5px;\n",
    "                width:50%;\n",
    "            }\n",
    "            .selected-para {\n",
    "                font-style: normal;\n",
    "                background-color:gold;\n",
    "                color:red;\n",
    "            }\n",
    "        </style>\n",
    "    </head>\n",
    "    <body>\n",
    "        <h1>Some paragraphs</h1>\n",
    "        <p>Some content.</p>\n",
    "        <p class=\"sub-para\">Some more content</p>\n",
    "        <p class=\"sub-para\">Another paragraph.</p>\n",
    "        <p class=\"sub-para selected-para\">And another.</p>\n",
    "    </body>\n",
    "</html>"
   ]
  },
  {
   "cell_type": "markdown",
   "metadata": {},
   "source": [
    "Again there are still issues with adding all the CSS code to a style tag. We are still mixing HTML code and CSS code in the same file making it harder to maintain. Best practice is to load a css file (the contents of the style tag without the opening and closing tag) in a file saved with the extension <code>*.css</code>. This can then be loaded as an external resource in the head section. For example:"
   ]
  },
  {
   "cell_type": "code",
   "execution_count": 24,
   "metadata": {},
   "outputs": [
    {
     "data": {
      "text/html": [
       "<html>\n",
       "    <head>\n",
       "        <title>My page</title>\n",
       "        <link rel=\"stylesheet\" type=\"text/css\" href=\"my-style.css\">\n",
       "    </head>\n",
       "    <body>\n",
       "        <h1>Hello world!</h1>\n",
       "        <p>Some content.</p>\n",
       "        <p class=\"sub-para\">Some more content</p>\n",
       "        <p class=\"sub-para\">Another paragraph.</p>\n",
       "        <p class=\"sub-para\">And another.</p>\n",
       "    </body>\n",
       "</html>\n"
      ],
      "text/plain": [
       "<IPython.core.display.HTML object>"
      ]
     },
     "metadata": {},
     "output_type": "display_data"
    }
   ],
   "source": [
    "%%html\n",
    "<html>\n",
    "    <head>\n",
    "        <title>My page</title>\n",
    "        <link rel=\"stylesheet\" type=\"text/css\" href=\"my-style.css\">\n",
    "    </head>\n",
    "    <body>\n",
    "        <h1>Hello world!</h1>\n",
    "        <p>Some content.</p>\n",
    "        <p class=\"sub-para\">Some more content</p>\n",
    "        <p class=\"sub-para\">Another paragraph.</p>\n",
    "        <p class=\"sub-para\">And another.</p>\n",
    "    </body>\n",
    "</html>"
   ]
  },
  {
   "cell_type": "markdown",
   "metadata": {},
   "source": [
    "So far we have seen how we can layout out pages and add style to them. In the final notebook we will see how we can add logic and interact with user input using the JavaScript programming language."
   ]
  },
  {
   "cell_type": "markdown",
   "metadata": {},
   "source": [
    "### Notebook details\n",
    "<br>\n",
    "<i>Notebook created by <strong>Dr. Alan Davies</strong>\n",
    "\n",
    "Publish date: March 2021<br>\n",
    "Review date: March 2022</i>\n",
    "\n",
    "Please give your feedback using the button below:"
   ]
  },
  {
   "cell_type": "markdown",
   "metadata": {},
   "source": [
    "<a class=\"typeform-share button\" href=\"https://hub11.typeform.com/to/VlxlTFDm\" data-mode=\"popup\" style=\"display:inline-block;text-decoration:none;background-color:#3A7685;color:white;cursor:pointer;font-family:Helvetica,Arial,sans-serif;font-size:18px;line-height:45px;text-align:center;margin:0;height:45px;padding:0px 30px;border-radius:22px;max-width:100%;white-space:nowrap;overflow:hidden;text-overflow:ellipsis;font-weight:bold;-webkit-font-smoothing:antialiased;-moz-osx-font-smoothing:grayscale;\" target=\"_blank\">Rate this notebook </a> <script> (function() { var qs,js,q,s,d=document, gi=d.getElementById, ce=d.createElement, gt=d.getElementsByTagName, id=\"typef_orm_share\", b=\"https://embed.typeform.com/\"; if(!gi.call(d,id)){ js=ce.call(d,\"script\"); js.id=id; js.src=b+\"embed.js\"; q=gt.call(d,\"script\")[0]; q.parentNode.insertBefore(js,q) } })() </script>"
   ]
  },
  {
   "cell_type": "markdown",
   "metadata": {},
   "source": [
    "## Notes:"
   ]
  },
  {
   "cell_type": "code",
   "execution_count": null,
   "metadata": {},
   "outputs": [],
   "source": []
  },
  {
   "cell_type": "code",
   "execution_count": null,
   "metadata": {},
   "outputs": [],
   "source": []
  },
  {
   "cell_type": "code",
   "execution_count": null,
   "metadata": {},
   "outputs": [],
   "source": []
  }
 ],
 "metadata": {
  "hide_input": false,
  "kernelspec": {
   "display_name": "Python 3",
   "language": "python",
   "name": "python3"
  },
  "language_info": {
   "codemirror_mode": {
    "name": "ipython",
    "version": 3
   },
   "file_extension": ".py",
   "mimetype": "text/x-python",
   "name": "python",
   "nbconvert_exporter": "python",
   "pygments_lexer": "ipython3",
   "version": "3.7.6"
  }
 },
 "nbformat": 4,
 "nbformat_minor": 4
}
